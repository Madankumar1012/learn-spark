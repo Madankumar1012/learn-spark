{
 "cells": [
  {
   "cell_type": "markdown",
   "metadata": {},
   "source": [
    "# Week 1 - Foundations of marketing analytics\n",
    "https://www.coursera.org/learn/foundations-marketing-analytics/home/week/1"
   ]
  },
  {
   "cell_type": "code",
   "execution_count": 1,
   "metadata": {},
   "outputs": [
    {
     "name": "stdout",
     "output_type": "stream",
     "text": [
      "root\n",
      " |-- customer_id: string (nullable = true)\n",
      " |-- purchase_amount: double (nullable = true)\n",
      " |-- date_of_purchase: date (nullable = true)\n",
      "\n"
     ]
    },
    {
     "data": {
      "text/plain": [
       "schema = StructType(StructField(customer_id,StringType,false), StructField(purchase_amount,DoubleType,false), StructField(date_of_purchase,DateType,false))\n",
       "data = [customer_id: string, purchase_amount: double ... 1 more field]\n"
      ]
     },
     "metadata": {},
     "output_type": "display_data"
    },
    {
     "data": {
      "text/plain": [
       "[customer_id: string, purchase_amount: double ... 1 more field]"
      ]
     },
     "execution_count": 1,
     "metadata": {},
     "output_type": "execute_result"
    }
   ],
   "source": [
    "import org.apache.spark.sql.types._\n",
    "\n",
    "val schema = StructType(\n",
    "                List(\n",
    "                    StructField(\"customer_id\", StringType, false),\n",
    "                    StructField(\"purchase_amount\", DoubleType, false),\n",
    "                    StructField(\"date_of_purchase\", DateType, false)\n",
    "                )\n",
    "            )\n",
    "val data = spark.read\n",
    "                .option(\"sep\", \"\\t\")\n",
    "                .option(\"mode\",\"FAILFAST\")\n",
    "                .option(\"dateFormat\",\"YYYY-MM-dd\")\n",
    "                //.option(\"inferSchema\", true) //requires 1 pass over schema and parses date as full timestamp\n",
    "                .schema(schema)\n",
    "                .csv(\"../../data/foundation-marketing-analytics/purchases.txt\")\n",
    "                .toDF\n",
    "data.printSchema()"
   ]
  },
  {
   "cell_type": "code",
   "execution_count": 2,
   "metadata": {},
   "outputs": [
    {
     "name": "stdout",
     "output_type": "stream",
     "text": [
      "+-----------+---------------+----------------+\n",
      "|customer_id|purchase_amount|date_of_purchase|\n",
      "+-----------+---------------+----------------+\n",
      "|        760|           25.0|      2009-11-06|\n",
      "|        860|           50.0|      2012-09-28|\n",
      "|       1200|          100.0|      2005-10-25|\n",
      "|       1420|           50.0|      2009-07-09|\n",
      "|       1940|           70.0|      2013-01-25|\n",
      "+-----------+---------------+----------------+\n",
      "only showing top 5 rows\n",
      "\n",
      "+-------+------------------+------------------+\n",
      "|summary|       customer_id|   purchase_amount|\n",
      "+-------+------------------+------------------+\n",
      "|  count|             51243|             51243|\n",
      "|   mean|108934.54793825498| 62.33719532423943|\n",
      "| stddev| 67650.61013903584|156.60680083783237|\n",
      "|    min|                10|               5.0|\n",
      "|    max|             99990|            4500.0|\n",
      "+-------+------------------+------------------+\n",
      "\n"
     ]
    },
    {
     "data": {
      "text/plain": [
       "desc = [summary: string, customer_id: string ... 1 more field]\n"
      ]
     },
     "metadata": {},
     "output_type": "display_data"
    },
    {
     "data": {
      "text/plain": [
       "[summary: string, customer_id: string ... 1 more field]"
      ]
     },
     "execution_count": 2,
     "metadata": {},
     "output_type": "execute_result"
    }
   ],
   "source": [
    "data.show(5)\n",
    "val desc = data.describe()\n",
    "desc.show()"
   ]
  },
  {
   "cell_type": "code",
   "execution_count": null,
   "metadata": {},
   "outputs": [],
   "source": [
    "import org.apache.spark.sql.functions._\n",
    "val enriched = data\n",
    "                .withColumn(\"year_of_purchase\", year(col(\"date_of_purchase\")))\n",
    "                .cache\n",
    "enrich.show(5)"
   ]
  },
  {
   "cell_type": "markdown",
   "metadata": {},
   "source": [
    "**Number of purchases per year**"
   ]
  },
  {
   "cell_type": "code",
   "execution_count": null,
   "metadata": {},
   "outputs": [],
   "source": [
    "enriched\n",
    "    .groupBy(col(\"year_of_purchase\"))\n",
    "    .agg(count(\"*\").alias(\"count\"))\n",
    "    .orderBy(col(\"year_of_purchase\"))\n",
    "    .show()"
   ]
  },
  {
   "cell_type": "markdown",
   "metadata": {},
   "source": [
    "**Average purchase amount per year**"
   ]
  },
  {
   "cell_type": "code",
   "execution_count": null,
   "metadata": {},
   "outputs": [],
   "source": [
    "enriched\n",
    "    .groupBy(col(\"year_of_purchase\"))\n",
    "    .agg(avg(\"purchase_amount\").alias(\"avg_amount\"))\n",
    "    .orderBy(\"year_of_purchase\")\n",
    "    .show()"
   ]
  },
  {
   "cell_type": "markdown",
   "metadata": {},
   "source": [
    "**All in one**"
   ]
  },
  {
   "cell_type": "code",
   "execution_count": null,
   "metadata": {},
   "outputs": [],
   "source": [
    "enriched\n",
    "    .groupBy($\"year_of_purchase\")\n",
    "    .agg(\n",
    "        count($\"year_of_purchase\").alias(\"count\"),\n",
    "        sum($\"purchase_amount\").alias(\"sum_amount\"),\n",
    "        avg($\"purchase_amount\").alias(\"avg_amount\"))\n",
    "    .orderBy($\"year_of_purchase\")\n",
    "    .show()"
   ]
  }
 ],
 "metadata": {
  "kernelspec": {
   "display_name": "Apache Toree - Scala",
   "language": "scala",
   "name": "apache_toree_scala"
  },
  "language_info": {
   "codemirror_mode": "text/x-scala",
   "file_extension": ".scala",
   "mimetype": "text/x-scala",
   "name": "scala",
   "pygments_lexer": "scala",
   "version": "2.11.12"
  }
 },
 "nbformat": 4,
 "nbformat_minor": 4
}
