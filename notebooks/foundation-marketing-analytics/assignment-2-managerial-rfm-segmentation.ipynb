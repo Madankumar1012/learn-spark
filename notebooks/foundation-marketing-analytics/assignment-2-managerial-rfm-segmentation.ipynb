{
 "cells": [
  {
   "cell_type": "markdown",
   "metadata": {},
   "source": [
    "# RFM Managerial Segmentation\n",
    "\n",
    "To validate Module 2 and correctly answer the questions will require that you perform the following exercise first: take the code in the file named module2.R, and modify it such that the managerial segment \"new active\" is divided into two sub-segments called **new active high** (with an average purchase amount of >= 100 dollars) and **new active low** (with an average purchase amount of < 100). \n",
    "\n",
    ">Tips: make sure that you apply that modification to both the 2015 and 2014 segmentations, and that you modify accordingly the code that re-order the factor \"segment\".\n",
    "\n",
    "You'll be asked to answer these questions :\n",
    "\n",
    "1. How many \"new active low\" customers were there in 2015?\n",
    "2. The number of \"new active high\" customers has increased between 2014 and 2015. What is the rate of that increase?\n",
    "3. Regarding the customers who belonged to the \"new warm\" segment in 2014, what was there expected revenue, all things considered, in 2015?\n",
    "4. In terms of expected revenue, which segment groups the least profitable customers?\n",
    "5. Looking at segment description, what is the average purchase amount of a customer who belongs to the \"new active high\" segment?\n",
    "\n",
    "![Rules](assignment-2-rfm-seg-rules.png)"
   ]
  },
  {
   "cell_type": "code",
   "execution_count": 1,
   "metadata": {},
   "outputs": [],
   "source": [
    "import java.util.concurrent.TimeUnit\n",
    "import scala.collection.mutable.ListBuffer\n",
    "import org.apache.spark.sql.Row\n",
    "import org.apache.spark.sql.Column\n",
    "import org.apache.spark.sql.DataFrame\n",
    "import org.apache.spark.sql.types._\n",
    "import org.apache.spark.sql.functions._"
   ]
  },
  {
   "cell_type": "code",
   "execution_count": 2,
   "metadata": {},
   "outputs": [
    {
     "data": {
      "text/plain": [
       "schema = StructType(StructField(customer_id,StringType,false), StructField(purchase_amount,DoubleType,false), StructField(date_of_purchase,DateType,false))\n",
       "OneYear = 365\n",
       "TwoYears = 730\n",
       "ThreeYears = 1095\n"
      ]
     },
     "metadata": {},
     "output_type": "display_data"
    },
    {
     "data": {
      "text/plain": [
       "enrich: (in: org.apache.spark.sql.DataFrame, dataBaseInvoiceDate: org.apache.spark.sql.Column)org.apache.spark.sql.DataFrame\n",
       "calcRFM: (in: org.apache.spark.sql.DataFrame)org.apache.spark.sql.DataFrame\n",
       "firstLevelSegmentation: (in: org.apache.spark.sql.DataFrame)org.apache.spark.sql.DataFrame\n",
       "secondLevelSegmentation: (in: org.apache.spark.sql.DataFrame)org.apache.spark.sql.DataFrame\n",
       "segmentation: (segment1Level: org.apache.spark.sql.DataFrame, segment2Level: org.apache.spark.sql.DataFrame)org.apache.spark.sql.DataFrame\n",
       "segmentProfile: (...\n"
      ]
     },
     "metadata": {},
     "output_type": "display_data"
    },
    {
     "data": {
      "text/plain": [
       "1095"
      ]
     },
     "execution_count": 2,
     "metadata": {},
     "output_type": "execute_result"
    }
   ],
   "source": [
    "val schema = StructType(\n",
    "                List(\n",
    "                    StructField(\"customer_id\", StringType, false),\n",
    "                    StructField(\"purchase_amount\", DoubleType, false),\n",
    "                    StructField(\"date_of_purchase\", DateType, false)\n",
    "                )\n",
    "            )\n",
    "\n",
    "val OneYear = 365\n",
    "val TwoYears = OneYear * 2\n",
    "val ThreeYears = OneYear * 3\n",
    "\n",
    "def enrich(in:DataFrame, dataBaseInvoiceDate: Column) : DataFrame = {\n",
    "    in\n",
    "        .withColumn(\"end_date\", dataBaseInvoiceDate)\n",
    "        .withColumn(\"year_of_purchase\", year($\"date_of_purchase\"))\n",
    "        .withColumn(\"days_since\", datediff($\"end_date\", $\"date_of_purchase\"))\n",
    "}\n",
    "\n",
    "def calcRFM(in:DataFrame) : DataFrame = {\n",
    "    in\n",
    "        .groupBy($\"customer_id\")\n",
    "        .agg(\n",
    "            max($\"days_since\").alias(\"first_purchase\"),\n",
    "            min($\"days_since\").alias(\"recency\"),\n",
    "            count($\"*\").alias(\"frequency\"),\n",
    "            avg($\"purchase_amount\").alias(\"amount\"))\n",
    "}\n",
    "\n",
    "def firstLevelSegmentation(in:DataFrame):DataFrame = {\n",
    "    in\n",
    "        .withColumn(\"segment1\", \n",
    "                        when($\"recency\" > ThreeYears, \"inactive\")\n",
    "                        .when($\"recency\" > TwoYears && $\"recency\" <= ThreeYears, \"cold\")\n",
    "                        .when($\"recency\" > OneYear && $\"recency\" <= TwoYears, \"warm\")\n",
    "                        .otherwise(\"active\"))\n",
    "}\n",
    "\n",
    "/*\n",
    "* Make sure that the conditions for \"warm new\" and \"active new\" come eralier than other conditions with respective \n",
    "* categories for accurate results\n",
    "\n",
    "* This assignment requires two new segements: \"active new high value\" and \"active new low value\"\n",
    "*/\n",
    "def secondLevelSegmentation(in:DataFrame) :DataFrame = {\n",
    "    in\n",
    "        .withColumn(\"segment2\",\n",
    "                        when($\"segment1\" === lit(\"warm\") && $\"first_purchase\" <= TwoYears, \"warm new\")\n",
    "                        .when($\"segment1\" === lit(\"warm\") && $\"amount\" >= 100, \"warm high value\")\n",
    "                        .when($\"segment1\" === lit(\"warm\") && $\"amount\" < 100, \"warm low value\")\n",
    "                        .when($\"segment1\" === lit(\"active\") && $\"first_purchase\" <= OneYear && $\"amount\" >= 100, \"active new high value\")\n",
    "                        .when($\"segment1\" === lit(\"active\") && $\"first_purchase\" <= OneYear && $\"amount\" < 100, \"active new low value\")\n",
    "                        .when($\"segment1\" === lit(\"active\") && $\"amount\" >= 100, \"active high value\")\n",
    "                        .when($\"segment1\" === lit(\"active\") && $\"amount\" < 100, \"active low value\"))\n",
    "}\n",
    "\n",
    "def segmentation(segment1Level:DataFrame, segment2Level:DataFrame) :DataFrame = {\n",
    "    segment1Level\n",
    "        .join(segment2Level, segment1Level(\"customer_id\") === segment2Level(\"customer_id\"), \"inner\")\n",
    "            .select(segment1Level(\"customer_id\"),\n",
    "                    segment1Level(\"first_purchase\"),\n",
    "                    segment1Level(\"recency\"),\n",
    "                    segment1Level(\"frequency\"),\n",
    "                    segment1Level(\"amount\"),\n",
    "                    segment1Level(\"segment1\"),\n",
    "                    segment2Level(\"segment2\"))\n",
    "            .withColumn(\"segment\", when(segment2Level(\"segment2\").isNotNull, $\"segment2\").otherwise(segment1Level(\"segment1\")))\n",
    "            .orderBy(\"segment\")\n",
    "        \n",
    "}\n",
    "\n",
    "def segmentProfile(segmented: DataFrame, segColName: String) :DataFrame = {\n",
    "    segmented\n",
    "        .groupBy(col(segColName))\n",
    "        .agg(\n",
    "                round(avg($\"recency\"),2).alias(\"avg_r\"),\n",
    "                round(avg($\"frequency\"),2).alias(\"avg_f\"),\n",
    "                round(avg($\"amount\"),2).alias(\"avg_a\"))\n",
    "        .orderBy(col(segColName))\n",
    "}\n",
    "\n",
    "def sumSegmentCounts(collectedArr: Array[Row]): Long = {\n",
    "    def convertNull(elem: String): String = if(elem == null) \"null\" else elem\n",
    "    \n",
    "    val count = collectedArr\n",
    "                    .map(row => (convertNull(row.getString(0)), row.getLong(1)))//null throws exception\n",
    "                    .map{case (seg: String, cnt: Long) => cnt}\n",
    "                    .reduceLeft((accum, elem) => accum + elem)\n",
    "\n",
    "    println(\"Total customer count: \"+ count)\n",
    "    \n",
    "    count\n",
    "}"
   ]
  },
  {
   "cell_type": "code",
   "execution_count": 3,
   "metadata": {},
   "outputs": [
    {
     "name": "stdout",
     "output_type": "stream",
     "text": [
      "+-----------+--------------+-------+---------+------+\n",
      "|customer_id|first_purchase|recency|frequency|amount|\n",
      "+-----------+--------------+-------+---------+------+\n",
      "|         90|          3783|    758|       10| 115.8|\n",
      "|         10|          3829|   3829|        1|  30.0|\n",
      "+-----------+--------------+-------+---------+------+\n",
      "\n"
     ]
    },
    {
     "data": {
      "text/plain": [
       "data = [customer_id: string, purchase_amount: double ... 1 more field]\n",
       "enriched1 = [customer_id: string, purchase_amount: double ... 4 more fields]\n",
       "enriched2 = [customer_id: string, first_purchase: int ... 3 more fields]\n"
      ]
     },
     "metadata": {},
     "output_type": "display_data"
    },
    {
     "data": {
      "text/plain": [
       "[customer_id: string, first_purchase: int ... 3 more fields]"
      ]
     },
     "execution_count": 3,
     "metadata": {},
     "output_type": "execute_result"
    }
   ],
   "source": [
    "val data = spark.read\n",
    "                .option(\"sep\", \"\\t\")\n",
    "                .option(\"mode\",\"FAILFAST\")\n",
    "                .option(\"dateFormat\",\"YYYY-MM-dd\")\n",
    "                .schema(schema)\n",
    "                .csv(\"../../data/foundation-marketing-analytics/purchases.txt\")\n",
    "                .toDF\n",
    "\n",
    "val enriched1 = enrich(data, lit(\"2016-01-01\"))\n",
    "val enriched2 = calcRFM(enriched1)  \n",
    "\n",
    "enriched2.filter($\"customer_id\".isin(\"10\", \"90\")).show(5)"
   ]
  },
  {
   "cell_type": "markdown",
   "metadata": {},
   "source": [
    "**Total purchases**"
   ]
  },
  {
   "cell_type": "code",
   "execution_count": 4,
   "metadata": {},
   "outputs": [
    {
     "name": "stdout",
     "output_type": "stream",
     "text": [
      "Total purchases: 51243\n"
     ]
    }
   ],
   "source": [
    "println(\"Total purchases: \"+ data.count())"
   ]
  },
  {
   "cell_type": "markdown",
   "metadata": {},
   "source": [
    "**Distinct customers**"
   ]
  },
  {
   "cell_type": "code",
   "execution_count": 5,
   "metadata": {},
   "outputs": [
    {
     "name": "stdout",
     "output_type": "stream",
     "text": [
      "Total distinct customers: 18417\n"
     ]
    }
   ],
   "source": [
    "println(\"Total distinct customers: \"+enriched2.count())//enriched2 is already grouped by customer_id"
   ]
  },
  {
   "cell_type": "markdown",
   "metadata": {},
   "source": [
    "**Number of purchases by year**"
   ]
  },
  {
   "cell_type": "code",
   "execution_count": 6,
   "metadata": {},
   "outputs": [
    {
     "name": "stdout",
     "output_type": "stream",
     "text": [
      "+----------------+-----+\n",
      "|year_of_purchase|count|\n",
      "+----------------+-----+\n",
      "|            2015| 6197|\n",
      "|            2014| 5739|\n",
      "|            2013| 5912|\n",
      "|            2012| 5960|\n",
      "|            2011| 4785|\n",
      "|            2010| 4939|\n",
      "|            2009| 5054|\n",
      "|            2008| 4331|\n",
      "|            2007| 4674|\n",
      "|            2006| 2182|\n",
      "|            2005| 1470|\n",
      "+----------------+-----+\n",
      "\n"
     ]
    }
   ],
   "source": [
    "enriched1.groupBy($\"year_of_purchase\").count().orderBy($\"year_of_purchase\".desc).show(20)"
   ]
  },
  {
   "cell_type": "markdown",
   "metadata": {},
   "source": [
    "## 2015 Segmentation"
   ]
  },
  {
   "cell_type": "code",
   "execution_count": 7,
   "metadata": {},
   "outputs": [
    {
     "name": "stdout",
     "output_type": "stream",
     "text": [
      "First 201level segmentation\n",
      "+--------+-----+\n",
      "|segment1|count|\n",
      "+--------+-----+\n",
      "|  active| 5398|\n",
      "|    cold| 1903|\n",
      "|inactive| 9158|\n",
      "|    warm| 1958|\n",
      "+--------+-----+\n",
      "\n",
      "Second level segmentation\n",
      "+---------------------+-----+\n",
      "|segment2             |count|\n",
      "+---------------------+-----+\n",
      "|null                 |11061|\n",
      "|active high value    |573  |\n",
      "|active low value     |3313 |\n",
      "|active new high value|263  |\n",
      "|active new low value |1249 |\n",
      "|warm high value      |119  |\n",
      "|warm low value       |901  |\n",
      "|warm new             |938  |\n",
      "+---------------------+-----+\n",
      "\n",
      "2015 final segmentation\n",
      "+---------------------+-----+\n",
      "|segment              |count|\n",
      "+---------------------+-----+\n",
      "|active high value    |573  |\n",
      "|active low value     |3313 |\n",
      "|active new high value|263  |\n",
      "|active new low value |1249 |\n",
      "|cold                 |1903 |\n",
      "|inactive             |9158 |\n",
      "|warm high value      |119  |\n",
      "|warm low value       |901  |\n",
      "|warm new             |938  |\n",
      "+---------------------+-----+\n",
      "\n"
     ]
    },
    {
     "data": {
      "text/plain": [
       "segment1Level = [customer_id: string, first_purchase: int ... 4 more fields]\n",
       "segment2Level = [customer_id: string, first_purchase: int ... 5 more fields]\n",
       "segmented2015 = [customer_id: string, first_purchase: int ... 6 more fields]\n"
      ]
     },
     "metadata": {},
     "output_type": "display_data"
    },
    {
     "data": {
      "text/plain": [
       "[customer_id: string, first_purchase: int ... 6 more fields]"
      ]
     },
     "execution_count": 7,
     "metadata": {},
     "output_type": "execute_result"
    }
   ],
   "source": [
    "val segment1Level = firstLevelSegmentation(enriched2)\n",
    "println(\"First 201level segmentation\")\n",
    "segment1Level.groupBy($\"segment1\").count().orderBy($\"segment1\").show()\n",
    "\n",
    "val segment2Level = secondLevelSegmentation(segment1Level)\n",
    "println(\"Second level segmentation\")\n",
    "segment2Level.groupBy($\"segment2\").count().orderBy($\"segment2\").show(10, truncate=false)\n",
    "\n",
    "//Let us create final segementation for all customers. It is reflected in **segmented** dataframe\n",
    "//Cache to speedup subsequent calculations\n",
    "val segmented2015 = segmentation(segment1Level, segment2Level).cache()\n",
    "println(\"2015 final segmentation\")\n",
    "segmented2015.groupBy($\"segment\").count().orderBy($\"segment\").show(10, truncate=false)"
   ]
  },
  {
   "cell_type": "code",
   "execution_count": 8,
   "metadata": {},
   "outputs": [
    {
     "name": "stdout",
     "output_type": "stream",
     "text": [
      "Total customer count: 18417\n",
      "1st level segmenation is accurate\n",
      "Total customer count: 18417\n",
      "2nd level segmenation is accurate\n",
      "Total customer count: 18417\n",
      "2015 final segmenation is accurate\n"
     ]
    },
    {
     "data": {
      "text/plain": [
       "collect1Level = Array([warm,1958], [active,5398], [cold,1903], [inactive,9158])\n",
       "collect2Level = Array([active new low value,1249], [warm high value,119], [active high value,573], [null,11061], [warm new,938], [active low value,3313], [active new high value,263], [warm low value,901])\n",
       "collect2015 = Array([active high value,573], [active low value,3313], [active new high value,263], [active new low value,1249], [cold,1903], [inactive,9158], [warm high value,119], [warm low value,901], [warm new,938])\n"
      ]
     },
     "metadata": {},
     "output_type": "display_data"
    },
    {
     "data": {
      "text/plain": [
       "Array([active high value,573], [active low value,3313], [active new high value,263], [active new low value,1249], [cold,1903], [inactive,9158], [warm high value,119], [warm low value,901], [warm new,938])"
      ]
     },
     "execution_count": 8,
     "metadata": {},
     "output_type": "execute_result"
    }
   ],
   "source": [
    "//Verify segmentation logic. Total distinct customer count shouldn't change no matter how segmentation is done\n",
    "\n",
    "val collect1Level: Array[Row] = segment1Level.groupBy($\"segment1\").count().collect()\n",
    "assert(18417 == sumSegmentCounts(collect1Level))\n",
    "println(\"1st level segmenation is accurate\")\n",
    "\n",
    "val collect2Level: Array[Row] = segment2Level.groupBy($\"segment2\").count().collect()\n",
    "assert(18417 == sumSegmentCounts(collect2Level))\n",
    "println(\"2nd level segmenation is accurate\")\n",
    "\n",
    "val collect2015: Array[Row] = segmented2015.groupBy($\"segment\").count().collect()\n",
    "assert(18417 == sumSegmentCounts(collect2015))\n",
    "println(\"2015 final segmenation is accurate\")"
   ]
  },
  {
   "cell_type": "markdown",
   "metadata": {},
   "source": [
    "### 1. How many \"new active low\" customers were there in 2015?\n",
    "\n",
    "Choices:\n",
    "\n",
    "1. 1234\n",
    "2. 1249\n",
    "3. 1349\n",
    "4. 1437\n",
    "5. 1512"
   ]
  },
  {
   "cell_type": "code",
   "execution_count": 9,
   "metadata": {},
   "outputs": [
    {
     "name": "stdout",
     "output_type": "stream",
     "text": [
      "Count of customers in 'new active low' segment: 1249\n"
     ]
    },
    {
     "data": {
      "text/plain": [
       "newActiveLowCount = 1249\n"
      ]
     },
     "metadata": {},
     "output_type": "display_data"
    },
    {
     "data": {
      "text/plain": [
       "1249"
      ]
     },
     "execution_count": 9,
     "metadata": {},
     "output_type": "execute_result"
    }
   ],
   "source": [
    "val newActiveLowCount = collect2015\n",
    "            .filter(row => row.get(0) == \"active new low value\")(0)\n",
    "            .getLong(1)\n",
    "println(\"Count of customers in 'new active low' segment: \"+newActiveLowCount)"
   ]
  },
  {
   "cell_type": "markdown",
   "metadata": {},
   "source": [
    "### 2015 - Segment Profile"
   ]
  },
  {
   "cell_type": "code",
   "execution_count": 10,
   "metadata": {},
   "outputs": [
    {
     "data": {
      "text/plain": [
       "Name: Compile Error\n",
       "Message: <console>:39: error: not found: value segmented\n",
       "       segmentProfile(segmented, \"segment\").show(10, truncate=false)\n",
       "                      ^\n",
       "<console>:39: error: not found: value truncate\n",
       "       segmentProfile(segmented, \"segment\").show(10, truncate=false)\n",
       "                                                     ^\n",
       "\n",
       "StackTrace: "
      ]
     },
     "execution_count": 10,
     "metadata": {},
     "output_type": "execute_result"
    }
   ],
   "source": [
    "segmentProfile(segmented, \"segment\").show(10, truncate=false)"
   ]
  },
  {
   "cell_type": "markdown",
   "metadata": {},
   "source": [
    "## 2014 Segmentation\n",
    "That is the segmentation of the database as if we were a **year ago. i.e retrospective segmentation**. \n",
    "\n",
    "**How did it work?**\n",
    "\n",
    "The first thing to do is to remember that we are a year ago. Meaning that whatever data we take into account, anything that has happened over the last 365 days should be discarded.\n",
    "\n",
    "We go back in time, assume the data that has been generated over the last year, for instance over the last period did not even exist. Adapt how we compute recency, frequency, monetary value and accordingly. And then we just apply everything we have applied before, same segmentation, same transformation, same analyses, and same tables.\n",
    "\n",
    "**Why do we need to segment retrospectively?**\n",
    "\n",
    "From a managerial point of view, it is also extremely useful to see not only to what extent each segment contributes to today's (2015) revenues. But also to what extent each segment today would likely contribute to tomorrow's revenues."
   ]
  },
  {
   "cell_type": "code",
   "execution_count": 11,
   "metadata": {},
   "outputs": [
    {
     "name": "stdout",
     "output_type": "stream",
     "text": [
      "Number of purchases by year\n",
      "+----------------+-----+\n",
      "|year_of_purchase|count|\n",
      "+----------------+-----+\n",
      "|            2014| 5739|\n",
      "|            2013| 5912|\n",
      "|            2012| 5960|\n",
      "|            2011| 4785|\n",
      "|            2010| 4939|\n",
      "|            2009| 5054|\n",
      "|            2008| 4331|\n",
      "|            2007| 4674|\n",
      "|            2006| 2182|\n",
      "|            2005| 1470|\n",
      "+----------------+-----+\n",
      "\n",
      "First level segmentation\n",
      "+--------+-----+\n",
      "|segment1|count|\n",
      "+--------+-----+\n",
      "|active  |4923 |\n",
      "|cold    |2153 |\n",
      "|inactive|7512 |\n",
      "|warm    |2317 |\n",
      "+--------+-----+\n",
      "\n",
      "Second level segmentation\n",
      "+---------------------+-----+\n",
      "|segment2             |count|\n",
      "+---------------------+-----+\n",
      "|null                 |9665 |\n",
      "|active high value    |475  |\n",
      "|active low value     |3011 |\n",
      "|active new high value|203  |\n",
      "|active new low value |1234 |\n",
      "|warm high value      |111  |\n",
      "|warm low value       |956  |\n",
      "|warm new             |1250 |\n",
      "+---------------------+-----+\n",
      "\n",
      "2014 final segmentation\n",
      "+---------------------+-----+\n",
      "|segment              |count|\n",
      "+---------------------+-----+\n",
      "|active high value    |475  |\n",
      "|active low value     |3011 |\n",
      "|active new high value|203  |\n",
      "|active new low value |1234 |\n",
      "|cold                 |2153 |\n",
      "|inactive             |7512 |\n",
      "|warm high value      |111  |\n",
      "|warm low value       |956  |\n",
      "|warm new             |1250 |\n",
      "+---------------------+-----+\n",
      "\n",
      "# of customers 2015: 18417\n",
      "# of customers 2014: 16905\n"
     ]
    },
    {
     "data": {
      "text/plain": [
       "enriched1_2014 = [customer_id: string, purchase_amount: double ... 4 more fields]\n",
       "enriched2_2014 = [customer_id: string, first_purchase: int ... 3 more fields]\n",
       "segment1Level_2014 = [customer_id: string, first_purchase: int ... 4 more fields]\n",
       "segment2Level_2014 = [customer_id: string, first_purchase: int ... 5 more fields]\n",
       "segmented2014 = [customer_id: string, first_purchase: int ... 6 more fields]\n"
      ]
     },
     "metadata": {},
     "output_type": "display_data"
    },
    {
     "data": {
      "text/plain": [
       "[customer_id: string, first_purchase: int ... 6 more fields]"
      ]
     },
     "execution_count": 11,
     "metadata": {},
     "output_type": "execute_result"
    }
   ],
   "source": [
    "val enriched1_2014 = enrich(data.filter(year($\"date_of_purchase\") <= 2014), lit(\"2015-01-01\"))\n",
    "val enriched2_2014 = calcRFM(enriched1_2014)\n",
    "\n",
    "println(\"Number of purchases by year\")\n",
    "enriched1_2014.groupBy($\"year_of_purchase\").count().orderBy($\"year_of_purchase\".desc).show(20)\n",
    "\n",
    "val segment1Level_2014 = firstLevelSegmentation(enriched2_2014)\n",
    "println(\"First level segmentation\")\n",
    "segment1Level_2014.groupBy($\"segment1\").count().orderBy($\"segment1\").show(10, truncate=false)\n",
    "\n",
    "val segment2Level_2014 = secondLevelSegmentation(segment1Level_2014)\n",
    "println(\"Second level segmentation\")\n",
    "segment2Level_2014.groupBy($\"segment2\").count().orderBy($\"segment2\").show(10, truncate=false)\n",
    "\n",
    "//Cache to speedup subsequent calculations\n",
    "val segmented2014 = segmentation(segment1Level_2014, segment2Level_2014).cache()\n",
    "println(\"2014 final segmentation\")\n",
    "segmented2014.groupBy($\"segment\").count().orderBy($\"segment\").show(10, truncate=false)\n",
    "\n",
    "println(\"# of customers 2015: \"+ enriched2.count())\n",
    "println(\"# of customers 2014: \"+ enriched2_2014.count())"
   ]
  },
  {
   "cell_type": "code",
   "execution_count": 12,
   "metadata": {},
   "outputs": [
    {
     "name": "stdout",
     "output_type": "stream",
     "text": [
      "Total customer count: 16905\n",
      "1st level segmenation is accurate\n",
      "Total customer count: 16905\n",
      "2nd level segmenation is accurate\n",
      "Total customer count: 16905\n",
      "2014 final segmenation is accurate\n"
     ]
    },
    {
     "data": {
      "text/plain": [
       "collect1Level_2014 = Array([warm,2317], [active,4923], [cold,2153], [inactive,7512])\n",
       "collect2Level_2014 = Array([active new low value,1234], [warm high value,111], [active high value,475], [null,9665], [warm new,1250], [active low value,3011], [active new high value,203], [warm low value,956])\n",
       "collect2014 = Array([active high value,475], [active low value,3011], [active new high value,203], [active new low value,1234], [cold,2153], [inactive,7512], [warm high value,111], [warm low value,956], [warm new,1250])\n"
      ]
     },
     "metadata": {},
     "output_type": "display_data"
    },
    {
     "data": {
      "text/plain": [
       "Array([active high value,475], [active low value,3011], [active new high value,203], [active new low value,1234], [cold,2153], [inactive,7512], [warm high value,111], [warm low value,956], [warm new,1250])"
      ]
     },
     "execution_count": 12,
     "metadata": {},
     "output_type": "execute_result"
    }
   ],
   "source": [
    "//Verify segmentation logic. Total distinct customer count shouldn't change no matter how segmentation is done\n",
    "\n",
    "val collect1Level_2014: Array[Row] = segment1Level_2014.groupBy($\"segment1\").count().collect()\n",
    "assert(16905 == sumSegmentCounts(collect1Level_2014))\n",
    "println(\"1st level segmenation is accurate\")\n",
    "\n",
    "val collect2Level_2014: Array[Row] = segment2Level_2014.groupBy($\"segment2\").count().collect()\n",
    "assert(16905 == sumSegmentCounts(collect2Level_2014))\n",
    "println(\"2nd level segmenation is accurate\")\n",
    "\n",
    "val collect2014: Array[Row] = segmented2014.groupBy($\"segment\").count().collect()\n",
    "assert(16905 == sumSegmentCounts(collect2014))\n",
    "println(\"2014 final segmenation is accurate\")"
   ]
  },
  {
   "cell_type": "markdown",
   "metadata": {},
   "source": [
    "### 2014 - Segment Profile"
   ]
  },
  {
   "cell_type": "code",
   "execution_count": 13,
   "metadata": {},
   "outputs": [
    {
     "name": "stdout",
     "output_type": "stream",
     "text": [
      "+---------------------+-------+-----+------+\n",
      "|segment              |avg_r  |avg_f|avg_a |\n",
      "+---------------------+-------+-----+------+\n",
      "|active high value    |85.34  |5.7  |261.9 |\n",
      "|active low value     |98.09  |5.63 |40.46 |\n",
      "|active new high value|94.62  |1.05 |284.67|\n",
      "|active new low value |138.25 |1.07 |34.36 |\n",
      "|cold                 |866.62 |2.25 |51.11 |\n",
      "|inactive             |2058.44|1.73 |48.11 |\n",
      "|warm high value      |461.2  |4.41 |187.85|\n",
      "|warm low value       |470.66 |4.36 |37.38 |\n",
      "|warm new             |497.32 |1.06 |51.37 |\n",
      "+---------------------+-------+-----+------+\n",
      "\n"
     ]
    }
   ],
   "source": [
    "segmentProfile(segmented2014, \"segment\").show(10, truncate=false)"
   ]
  },
  {
   "cell_type": "markdown",
   "metadata": {},
   "source": [
    "### 2. The number of \"new active high\" customers has increased between 2014 and 2015. What is the rate of that increase?\n",
    "\n",
    "Choices:\n",
    "\n",
    "1. 29.5%\n",
    "2. 63.0%\n",
    "3. 129.5%\n",
    "4. 90%\n",
    "5. 263%"
   ]
  },
  {
   "cell_type": "code",
   "execution_count": 14,
   "metadata": {},
   "outputs": [
    {
     "name": "stdout",
     "output_type": "stream",
     "text": [
      "2015 Segments\n",
      "+---------------------+-----+\n",
      "|segment              |count|\n",
      "+---------------------+-----+\n",
      "|active high value    |573  |\n",
      "|active low value     |3313 |\n",
      "|active new high value|263  |\n",
      "|active new low value |1249 |\n",
      "|cold                 |1903 |\n",
      "|inactive             |9158 |\n",
      "|warm high value      |119  |\n",
      "|warm low value       |901  |\n",
      "|warm new             |938  |\n",
      "+---------------------+-----+\n",
      "\n",
      "2014 Segments\n",
      "+---------------------+-----+\n",
      "|segment              |count|\n",
      "+---------------------+-----+\n",
      "|active high value    |475  |\n",
      "|active low value     |3011 |\n",
      "|active new high value|203  |\n",
      "|active new low value |1234 |\n",
      "|cold                 |2153 |\n",
      "|inactive             |7512 |\n",
      "|warm high value      |111  |\n",
      "|warm low value       |956  |\n",
      "|warm new             |1250 |\n",
      "+---------------------+-----+\n",
      "\n",
      "Rate of increase from 2014 to 2015: 29.55665024630542\n"
     ]
    },
    {
     "data": {
      "text/plain": [
       "newActiveHigh2014 = 203\n",
       "newActiveHigh2015 = 263\n",
       "increase = 60.0\n",
       "rateOfIncrease = 29.55665024630542\n"
      ]
     },
     "metadata": {},
     "output_type": "display_data"
    },
    {
     "data": {
      "text/plain": [
       "segmentCount: (segmented: org.apache.spark.sql.DataFrame, colName: String)Long\n"
      ]
     },
     "metadata": {},
     "output_type": "display_data"
    },
    {
     "data": {
      "text/plain": [
       "29.55665024630542"
      ]
     },
     "execution_count": 14,
     "metadata": {},
     "output_type": "execute_result"
    }
   ],
   "source": [
    "println(\"2015 Segments\")\n",
    "segmented2015.groupBy($\"segment\").count().orderBy($\"segment\").show(10, truncate=false)\n",
    "\n",
    "println(\"2014 Segments\")\n",
    "segmented2014.groupBy($\"segment\").count().orderBy($\"segment\").show(10, truncate=false)\n",
    "\n",
    "def segmentCount(segmented: DataFrame, colName: String): Long = {\n",
    "    segmented\n",
    "        .groupBy($\"segment\")\n",
    "        .count()\n",
    "        .filter($\"segment\" === lit(colName))\n",
    "        .take(1)(0)\n",
    "        .getLong(1)\n",
    "}\n",
    "val newActiveHigh2014 = segmentCount(segmented2014, \"active new high value\")\n",
    "val newActiveHigh2015 = segmentCount(segmented2015, \"active new high value\")\n",
    "\n",
    "val increase: Double = newActiveHigh2015 - newActiveHigh2014\n",
    "val rateOfIncrease: Double = (increase / newActiveHigh2014) * 100.0\n",
    "println(\"Rate of increase from 2014 to 2015: \"+ rateOfIncrease)\n",
    "\n",
    "/*\n",
    "For verification, the values have been copied from successful assignment submission on coursera\n",
    "\n",
    "2015 segment counts\n",
    "-------------------\n",
    "active high value = 573 \n",
    "active low value  = 3313  \n",
    "new active high   = 263   \n",
    "new active low    = 1249\n",
    "cold              = 1903\n",
    "inactive          = 9158\n",
    "new warm          = 938 \n",
    "warm high value   = 119\n",
    "warm low value    = 901\n",
    "\n",
    "2014 segment counts\n",
    "-------------------\n",
    "inactive                   = 7512\n",
    "cold                       = 2153\n",
    "warm high value            = 111\n",
    "warm low value             = 956   \n",
    "new warm                   = 1250\n",
    "active high value          = 475\n",
    "active low value           = 3011\n",
    "new active high            = 203\n",
    "new active low             = 1234\n",
    "*/"
   ]
  },
  {
   "cell_type": "markdown",
   "metadata": {},
   "source": [
    "## 2015 - Revenue Generation Per Segment"
   ]
  },
  {
   "cell_type": "code",
   "execution_count": 15,
   "metadata": {},
   "outputs": [
    {
     "name": "stdout",
     "output_type": "stream",
     "text": [
      "+-------+------------------+\n",
      "|summary|      revenue_2015|\n",
      "+-------+------------------+\n",
      "|  count|              5398|\n",
      "|   mean| 88.62432938125232|\n",
      "| stddev|224.35689735796478|\n",
      "|    min|               5.0|\n",
      "|    max|            4500.0|\n",
      "+-------+------------------+\n",
      "\n",
      "Total 2015 revenue: 478394.13\n",
      "No of rows: 18417\n",
      "+-------+------------------+\n",
      "|summary|      revenue_2015|\n",
      "+-------+------------------+\n",
      "|  count|             18417|\n",
      "|   mean|25.975681707118422|\n",
      "| stddev| 127.9801632917415|\n",
      "|    min|               0.0|\n",
      "|    max|            4500.0|\n",
      "+-------+------------------+\n",
      "\n",
      "Total 2015 revenue (Actuals): 478394.13\n",
      "+---------------------+----------------+\n",
      "|segment              |avg_revenue_2015|\n",
      "+---------------------+----------------+\n",
      "|active high value    |323.57          |\n",
      "|active low value     |52.31           |\n",
      "|active new high value|287.56          |\n",
      "|active new low value |35.28           |\n",
      "|cold                 |0.0             |\n",
      "|inactive             |0.0             |\n",
      "|warm high value      |0.0             |\n",
      "|warm low value       |0.0             |\n",
      "|warm new             |0.0             |\n",
      "+---------------------+----------------+\n",
      "\n"
     ]
    },
    {
     "data": {
      "text/plain": [
       "revenue2015 = [customer_id: string, revenue_2015: double]\n",
       "total2015Revenue = 478394.13\n",
       "actuals = [customer_id: string, first_purchase: int ... 7 more fields]\n",
       "actualsTotal2015Revenue = 478394.13\n"
      ]
     },
     "metadata": {},
     "output_type": "display_data"
    },
    {
     "data": {
      "text/plain": [
       "478394.13"
      ]
     },
     "execution_count": 15,
     "metadata": {},
     "output_type": "execute_result"
    }
   ],
   "source": [
    "//Compute how much revenue is generated by each segment in 2015\n",
    "//Notice that people with no revenue in 2015 do NOT appear\n",
    "//i.e. we select only active customers\n",
    "val revenue2015 = enriched1\n",
    "                    .filter($\"year_of_purchase\" === 2015)\n",
    "                    .groupBy($\"customer_id\")\n",
    "                    .agg(sum($\"purchase_amount\").alias(\"revenue_2015\"))\n",
    "revenue2015.describe(\"revenue_2015\").show()\n",
    "\n",
    "//revenue2015.show()\n",
    "val total2015Revenue = revenue2015\n",
    "                        .select(sum($\"revenue_2015\"))\n",
    "                        .collect()(0) //will return 1 row\n",
    "                        .getDouble(0) //will return 1 column\n",
    "println(\"Total 2015 revenue: \"+total2015Revenue)\n",
    "\n",
    "//we need to do left-join so that we can bring the customers who didn't generate revenue for 2015 i.e. didnt\n",
    "//make any purchases in 2015\n",
    "val actuals = segmented2015\n",
    "                .join(revenue2015, Seq(\"customer_id\"), \"left\")\n",
    "                .na\n",
    "                .fill(0.0, Seq(\"revenue_2015\"))\n",
    "println(\"No of rows: \"+actuals.count())\n",
    "\n",
    "actuals.describe(\"revenue_2015\").show()\n",
    "\n",
    "//Verify accurate calculation of actuals\n",
    "val actualsTotal2015Revenue = actuals\n",
    "                        .select(sum($\"revenue_2015\"))\n",
    "                        .collect()(0) //will return 1 row\n",
    "                        .getDouble(0) //will return 1 column\n",
    "println(\"Total 2015 revenue (Actuals): \"+actualsTotal2015Revenue)\n",
    "assert(total2015Revenue == actualsTotal2015Revenue)\n",
    "\n",
    "actuals\n",
    "    .groupBy($\"segment\")\n",
    "    .agg(round(avg($\"revenue_2015\"),2).alias(\"avg_revenue_2015\"))\n",
    "    .orderBy($\"segment\")\n",
    "    .show(10,truncate=false)"
   ]
  },
  {
   "cell_type": "markdown",
   "metadata": {},
   "source": [
    "From above table, we can see that customers in **active new low value** segment generated lowest revenue in 2015."
   ]
  },
  {
   "cell_type": "markdown",
   "metadata": {},
   "source": [
    "###  Show AVERAGE revenue per customers and per segment for 2014 (FORWARD looking)\n",
    "How much revenue you can expect from your active customers today (today in this data set is 2015), next year. We don't' know the future, we don't know exactly what's going to happen, but the one thing we can do, is to go back in the past (2014). And look at how much revenue we got from inactive customers in 2014, going into 2015. And that's the next step of this analysis. So what we'll do, is to merge the revenue generated in 2015, as before. But we're going to merge them with the customer list of 2014. And so we're going to look into, how much revenue's been generated by each customer, based on the segment they were in, a year ago.\n",
    "\n",
    "And that's why we call it forward. Forward, as the segment in 2014 will enlight us, about how much revenue have been generated in 2015 from these customers."
   ]
  },
  {
   "cell_type": "code",
   "execution_count": 16,
   "metadata": {},
   "outputs": [
    {
     "name": "stdout",
     "output_type": "stream",
     "text": [
      "+-------+------------------+\n",
      "|summary|      revenue_2015|\n",
      "+-------+------------------+\n",
      "|  count|             16905|\n",
      "|   mean|21.218273883466434|\n",
      "| stddev|111.24529944791601|\n",
      "|    min|               0.0|\n",
      "|    max|            4500.0|\n",
      "+-------+------------------+\n",
      "\n",
      "+---------------------+----------------+\n",
      "|segment              |avg_revenue_2015|\n",
      "+---------------------+----------------+\n",
      "|active high value    |254.08          |\n",
      "|warm high value      |114.46          |\n",
      "|active new high value|109.73          |\n",
      "|active low value     |41.9            |\n",
      "|active new low value |18.1            |\n",
      "|warm low value       |13.49           |\n",
      "|cold                 |6.11            |\n",
      "|warm new             |5.06            |\n",
      "|inactive             |2.95            |\n",
      "+---------------------+----------------+\n",
      "\n"
     ]
    },
    {
     "data": {
      "text/plain": [
       "forward = [customer_id: string, first_purchase: int ... 7 more fields]\n",
       "forwardRevenue = [segment: string, avg_revenue_2015: double]\n"
      ]
     },
     "metadata": {},
     "output_type": "display_data"
    },
    {
     "data": {
      "text/plain": [
       "[segment: string, avg_revenue_2015: double]"
      ]
     },
     "execution_count": 16,
     "metadata": {},
     "output_type": "execute_result"
    }
   ],
   "source": [
    "//Merge 2014 customers with 2015 revenue\n",
    "val forward = segmented2014\n",
    "                .join(revenue2015, Seq(\"customer_id\"), \"left\")\n",
    "                .na\n",
    "                .fill(0.0, Seq(\"revenue_2015\"))\n",
    "forward.describe(\"revenue_2015\").show()\n",
    "\n",
    "val forwardRevenue = forward\n",
    "                        .groupBy($\"segment\")\n",
    "                        .agg(round(avg($\"revenue_2015\"),2).alias(\"avg_revenue_2015\"))\n",
    "                        .orderBy($\"avg_revenue_2015\".desc)\n",
    "\n",
    "forwardRevenue.show(10, truncate=false)\n",
    "\n",
    "/*\n",
    "For verification, the values have been copied from successful assignment submission on coursera\n",
    "Ref: https://www.coursera.org/learn/foundations-marketing-analytics/discussions/weeks/3/threads/X7TaXUc3EeaS0w6RXgoWAw\n",
    "\n",
    "6 active high value 254.077895\n",
    "3   warm high value 114.459459\n",
    "8   new active high 109.729064\n",
    "7  active low value  41.896556\n",
    "9    new active low  18.102917\n",
    "4    warm low value  13.494770\n",
    "2              cold   6.108221\n",
    "5          new warm   5.064000\n",
    "1          inactive   2.949466\n",
    "\n",
    "*/"
   ]
  },
  {
   "cell_type": "markdown",
   "metadata": {},
   "source": [
    "### 3. Regarding the customers who belonged to the \"new warm\" segment in 2014, what was their expected revenue, all things considered, in 2015?\n",
    "\n",
    "Choices:\n",
    "\n",
    "1. \\$2.94\n",
    "2. \\$5.06\n",
    "4. \\$6.10\n",
    "4. \\$18.10\n",
    "5. \\$41.89\n",
    "\n",
    "We need to use **forward** looking dataframe to answer this question. Find average revenue generated in 2015 by each of the segments and pick the average revenue generated by \"warm new\" segment."
   ]
  },
  {
   "cell_type": "code",
   "execution_count": 17,
   "metadata": {},
   "outputs": [
    {
     "name": "stdout",
     "output_type": "stream",
     "text": [
      "Expected revenue of 'new warm' segment: 5.06\n"
     ]
    },
    {
     "data": {
      "text/plain": [
       "newWarmAvgRevenue = 5.06\n"
      ]
     },
     "metadata": {},
     "output_type": "display_data"
    },
    {
     "data": {
      "text/plain": [
       "5.06"
      ]
     },
     "execution_count": 17,
     "metadata": {},
     "output_type": "execute_result"
    }
   ],
   "source": [
    "val newWarmAvgRevenue = forwardRevenue\n",
    "                            .collect() \n",
    "                            .filter(row => row.get(0) == \"warm new\")(0)\n",
    "                            .getDouble(1)\n",
    "println(\"Expected revenue of 'new warm' segment: \"+newWarmAvgRevenue)"
   ]
  },
  {
   "cell_type": "markdown",
   "metadata": {},
   "source": [
    "### 4. In terms of expected revenue, which segment groups the least profitable customers?\n",
    "\n",
    "Choices:\n",
    "\n",
    "1. Warm high value\n",
    "2. Warm low value\n",
    "3. New active high\n",
    "4. New active low\n",
    "5. Active low value\n",
    "\n",
    "We need to use **forward** looking dataframe to answer this question.  Find average revenue generated in 2015 by each of the segments and pick the average revenue generated by \"warm new\" segment."
   ]
  },
  {
   "cell_type": "code",
   "execution_count": 18,
   "metadata": {},
   "outputs": [
    {
     "name": "stdout",
     "output_type": "stream",
     "text": [
      "+---------------------+----------------+\n",
      "|segment              |avg_revenue_2015|\n",
      "+---------------------+----------------+\n",
      "|warm low value       |13.49           |\n",
      "|active new low value |18.1            |\n",
      "|active low value     |41.9            |\n",
      "|active new high value|109.73          |\n",
      "|warm high value      |114.46          |\n",
      "+---------------------+----------------+\n",
      "\n",
      "Least profitabel segment: warm low value\n"
     ]
    },
    {
     "data": {
      "text/plain": [
       "answer4Temp = [segment: string, avg_revenue_2015: double]\n",
       "answer4 = warm low value\n"
      ]
     },
     "metadata": {},
     "output_type": "display_data"
    },
    {
     "data": {
      "text/plain": [
       "warm low value"
      ]
     },
     "execution_count": 18,
     "metadata": {},
     "output_type": "execute_result"
    }
   ],
   "source": [
    "val answer4Temp = forwardRevenue\n",
    "    .filter($\"segment\".isin(\"warm high value\", \"warm low value\", \"active new high value\", \"active new low value\", \"active low value\"))\n",
    "    .orderBy($\"avg_revenue_2015\".asc)\n",
    "\n",
    "answer4Temp.show(10, truncate=false)\n",
    "\n",
    "val answer4 = answer4Temp\n",
    "                    .take(1)(0) //pick the first 1 as the DF is sorted in low to high revenue\n",
    "                    .get(0) //Pick first column \"segment\"\n",
    "\n",
    "println(\"Least profitabel segment: \"+answer4)"
   ]
  },
  {
   "cell_type": "markdown",
   "metadata": {},
   "source": [
    "### 5. Looking at segment description, what is the average purchase amount of a customer who belongs to the \"new active high\" segment?\n",
    "\n",
    "Choices\n",
    "\n",
    "1. \\$82.33\n",
    "2. \\$84.09\n",
    "3. \\$85.50\n",
    "4. \\$91.21\n",
    "5. \\$283.38\n",
    "\n",
    "We need to use the **segmented2015** dataframe to answer this question."
   ]
  },
  {
   "cell_type": "code",
   "execution_count": 19,
   "metadata": {},
   "outputs": [
    {
     "name": "stdout",
     "output_type": "stream",
     "text": [
      "+---------------------+-------+-----+------+\n",
      "|segment              |avg_r  |avg_f|avg_a |\n",
      "+---------------------+-------+-----+------+\n",
      "|active high value    |88.82  |5.89 |240.05|\n",
      "|active low value     |108.36 |5.94 |40.72 |\n",
      "|active new high value|82.37  |1.02 |283.38|\n",
      "|active new low value |85.54  |1.05 |33.7  |\n",
      "|cold                 |857.78 |2.3  |51.74 |\n",
      "|inactive             |2178.11|1.81 |48.11 |\n",
      "|warm high value      |455.13 |4.71 |327.41|\n",
      "|warm low value       |474.38 |4.53 |38.59 |\n",
      "|warm new             |509.3  |1.04 |66.6  |\n",
      "+---------------------+-------+-----+------+\n",
      "\n",
      "Avg purchase amt for 'new active high' segment: 283.38\n"
     ]
    },
    {
     "data": {
      "text/plain": [
       "answer5 = 283.38\n"
      ]
     },
     "metadata": {},
     "output_type": "display_data"
    },
    {
     "data": {
      "text/plain": [
       "283.38"
      ]
     },
     "execution_count": 19,
     "metadata": {},
     "output_type": "execute_result"
    }
   ],
   "source": [
    "segmentProfile(segmented2015, \"segment\").show(10, truncate=false)\n",
    "\n",
    "val answer5 = segmentProfile(segmented2015, \"segment\")\n",
    "                        .filter($\"segment\" === lit(\"active new high value\")) //new active high segment\n",
    "                        .collect()(0) //will return 1 row\n",
    "                        .getDouble(3) //will return 4 cols, we need \"avg_a\" col\n",
    "\n",
    "println(\"Avg purchase amt for 'new active high' segment: \"+ answer5)"
   ]
  },
  {
   "cell_type": "code",
   "execution_count": null,
   "metadata": {},
   "outputs": [],
   "source": []
  }
 ],
 "metadata": {
  "kernelspec": {
   "display_name": "Apache Toree - Scala",
   "language": "scala",
   "name": "apache_toree_scala"
  },
  "language_info": {
   "codemirror_mode": "text/x-scala",
   "file_extension": ".scala",
   "mimetype": "text/x-scala",
   "name": "scala",
   "pygments_lexer": "scala",
   "version": "2.11.12"
  }
 },
 "nbformat": 4,
 "nbformat_minor": 4
}
