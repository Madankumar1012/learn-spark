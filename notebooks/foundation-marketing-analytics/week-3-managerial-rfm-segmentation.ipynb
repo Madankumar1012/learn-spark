{
 "cells": [
  {
   "cell_type": "markdown",
   "metadata": {},
   "source": [
    "# RFM Managerial Segmentation\n",
    "Manegerial segmentation is simple and based on rules than ML or Statistiacal models.\n",
    "\n",
    "![Rules](rfm-seg-rules.png)"
   ]
  },
  {
   "cell_type": "code",
   "execution_count": 69,
   "metadata": {},
   "outputs": [],
   "source": [
    "import java.util.concurrent.TimeUnit\n",
    "import scala.collection.mutable.ListBuffer\n",
    "import org.apache.spark.sql.Column\n",
    "import org.apache.spark.sql.DataFrame\n",
    "import org.apache.spark.sql.types._\n",
    "import org.apache.spark.sql.functions._"
   ]
  },
  {
   "cell_type": "code",
   "execution_count": 70,
   "metadata": {},
   "outputs": [
    {
     "data": {
      "text/plain": [
       "schema = StructType(StructField(customer_id,StringType,false), StructField(purchase_amount,DoubleType,false), StructField(date_of_purchase,DateType,false))\n",
       "data = [customer_id: string, purchase_amount: double ... 1 more field]\n"
      ]
     },
     "metadata": {},
     "output_type": "display_data"
    },
    {
     "data": {
      "text/plain": [
       "[customer_id: string, purchase_amount: double ... 1 more field]"
      ]
     },
     "execution_count": 70,
     "metadata": {},
     "output_type": "execute_result"
    }
   ],
   "source": [
    "val schema = StructType(\n",
    "                List(\n",
    "                    StructField(\"customer_id\", StringType, false),\n",
    "                    StructField(\"purchase_amount\", DoubleType, false),\n",
    "                    StructField(\"date_of_purchase\", DateType, false)\n",
    "                )\n",
    "            )\n",
    "val data = spark.read\n",
    "                .option(\"sep\", \"\\t\")\n",
    "                .option(\"mode\",\"FAILFAST\")\n",
    "                .option(\"dateFormat\",\"YYYY-MM-dd\")\n",
    "                .schema(schema)\n",
    "                .csv(\"../../data/foundation-marketing-analytics/purchases.txt\")\n",
    "                .toDF"
   ]
  },
  {
   "cell_type": "code",
   "execution_count": 71,
   "metadata": {},
   "outputs": [
    {
     "name": "stdout",
     "output_type": "stream",
     "text": [
      "root\n",
      " |-- customer_id: string (nullable = true)\n",
      " |-- purchase_amount: double (nullable = true)\n",
      " |-- date_of_purchase: date (nullable = true)\n",
      " |-- end_date: string (nullable = false)\n",
      " |-- year_of_purchase: integer (nullable = true)\n",
      " |-- days_since: integer (nullable = true)\n",
      "\n"
     ]
    },
    {
     "data": {
      "text/plain": [
       "enriched1 = [customer_id: string, purchase_amount: double ... 4 more fields]\n"
      ]
     },
     "metadata": {},
     "output_type": "display_data"
    },
    {
     "data": {
      "text/plain": [
       "enrich: (in: org.apache.spark.sql.DataFrame, dataBaseInvoiceDate: org.apache.spark.sql.Column)org.apache.spark.sql.DataFrame\n"
      ]
     },
     "metadata": {},
     "output_type": "display_data"
    },
    {
     "data": {
      "text/plain": [
       "[customer_id: string, purchase_amount: double ... 4 more fields]"
      ]
     },
     "execution_count": 71,
     "metadata": {},
     "output_type": "execute_result"
    }
   ],
   "source": [
    "def enrich(in:DataFrame, dataBaseInvoiceDate: Column) : DataFrame = {\n",
    "    in\n",
    "        .withColumn(\"end_date\", dataBaseInvoiceDate)\n",
    "        .withColumn(\"year_of_purchase\", year($\"date_of_purchase\"))\n",
    "        .withColumn(\"days_since\", datediff($\"end_date\", $\"date_of_purchase\"))\n",
    "}\n",
    "\n",
    "val enriched1 = enrich(data, lit(\"2016-01-01\"))\n",
    "                    \n",
    "enriched1.printSchema()"
   ]
  },
  {
   "cell_type": "code",
   "execution_count": 72,
   "metadata": {},
   "outputs": [
    {
     "name": "stdout",
     "output_type": "stream",
     "text": [
      "+-----------+--------------+-------+---------+------+\n",
      "|customer_id|first_purchase|recency|frequency|amount|\n",
      "+-----------+--------------+-------+---------+------+\n",
      "|         90|          3783|    758|       10| 115.8|\n",
      "|         10|          3829|   3829|        1|  30.0|\n",
      "+-----------+--------------+-------+---------+------+\n",
      "\n"
     ]
    },
    {
     "data": {
      "text/plain": [
       "OneYear = 365\n",
       "TwoYears = 730\n",
       "ThreeYears = 1095\n",
       "enriched2 = [customer_id: string, first_purchase: int ... 3 more fields]\n"
      ]
     },
     "metadata": {},
     "output_type": "display_data"
    },
    {
     "data": {
      "text/plain": [
       "calcRFM: (in: org.apache.spark.sql.DataFrame)org.apache.spark.sql.DataFrame\n"
      ]
     },
     "metadata": {},
     "output_type": "display_data"
    },
    {
     "data": {
      "text/plain": [
       "[customer_id: string, first_purchase: int ... 3 more fields]"
      ]
     },
     "execution_count": 72,
     "metadata": {},
     "output_type": "execute_result"
    }
   ],
   "source": [
    "val OneYear = 365\n",
    "val TwoYears = OneYear * 2\n",
    "val ThreeYears = OneYear * 3\n",
    "\n",
    "def calcRFM(in:DataFrame) : DataFrame = {\n",
    "    in\n",
    "        .groupBy($\"customer_id\")\n",
    "        .agg(\n",
    "            max($\"days_since\").alias(\"first_purchase\"),\n",
    "            min($\"days_since\").alias(\"recency\"),\n",
    "            count($\"*\").alias(\"frequency\"),\n",
    "            avg($\"purchase_amount\").alias(\"amount\"))\n",
    "}\n",
    "\n",
    "val enriched2 = calcRFM(enriched1)  \n",
    "\n",
    "enriched2.filter($\"customer_id\".isin(\"10\", \"90\")).show(5)"
   ]
  },
  {
   "cell_type": "markdown",
   "metadata": {},
   "source": [
    "## First level segmentation\n",
    "Calculates only first level segmentation"
   ]
  },
  {
   "cell_type": "code",
   "execution_count": 73,
   "metadata": {},
   "outputs": [
    {
     "name": "stdout",
     "output_type": "stream",
     "text": [
      "+--------+-----+\n",
      "|segment1|count|\n",
      "+--------+-----+\n",
      "|    warm| 1958|\n",
      "|  active| 5398|\n",
      "|    cold| 1903|\n",
      "|inactive| 9158|\n",
      "+--------+-----+\n",
      "\n",
      "+-----------+--------------+-------+---------+------------------+--------+\n",
      "|customer_id|first_purchase|recency|frequency|            amount|segment1|\n",
      "+-----------+--------------+-------+---------+------------------+--------+\n",
      "|       6240|          3752|   3005|        3| 76.66666666666667|inactive|\n",
      "|      52800|          3320|   3320|        1|              15.0|inactive|\n",
      "|     100140|          2750|     13|        4|             51.25|  active|\n",
      "|     109180|          2616|     30|        8|             48.75|  active|\n",
      "|     131450|          2228|    205|        8|            103.75|  active|\n",
      "|      45300|          3667|    234|        6|29.166666666666668|  active|\n",
      "|      69460|          3179|     15|        9| 28.88888888888889|  active|\n",
      "|      86180|          2975|      2|        9| 21.11111111111111|  active|\n",
      "|     161110|          1528|   1528|        1|              30.0|inactive|\n",
      "|      60070|          3288|   2074|        3|51.666666666666664|inactive|\n",
      "|      13610|          3657|   1307|        8|           3043.75|inactive|\n",
      "|     100010|          2750|    413|        7|27.857142857142858|    warm|\n",
      "|     107930|          2626|    150|        5|              79.0|  active|\n",
      "|     132610|          2211|     30|        7|28.571428571428573|  active|\n",
      "|     154770|           427|    427|        1|              45.0|    warm|\n",
      "|      49290|          3493|    371|        5|              24.0|    warm|\n",
      "|     229650|           419|    419|        1|              45.0|    warm|\n",
      "|     220290|           623|    366|        2|              40.0|    warm|\n",
      "|     178550|          1247|      3|        8|             56.25|  active|\n",
      "|     112480|          2577|   1890|        3|38.333333333333336|inactive|\n",
      "+-----------+--------------+-------+---------+------------------+--------+\n",
      "only showing top 20 rows\n",
      "\n"
     ]
    },
    {
     "data": {
      "text/plain": [
       "segment1Level = [customer_id: string, first_purchase: int ... 4 more fields]\n"
      ]
     },
     "metadata": {},
     "output_type": "display_data"
    },
    {
     "data": {
      "text/plain": [
       "firstLevelSegmentation: (in: org.apache.spark.sql.DataFrame)org.apache.spark.sql.DataFrame\n"
      ]
     },
     "metadata": {},
     "output_type": "display_data"
    },
    {
     "data": {
      "text/plain": [
       "[customer_id: string, first_purchase: int ... 4 more fields]"
      ]
     },
     "execution_count": 73,
     "metadata": {},
     "output_type": "execute_result"
    }
   ],
   "source": [
    "def firstLevelSegmentation(in:DataFrame):DataFrame = {\n",
    "    in\n",
    "        .withColumn(\"segment1\", \n",
    "                        when($\"recency\" > ThreeYears, \"inactive\")\n",
    "                        .when($\"recency\" > TwoYears && $\"recency\" <= ThreeYears, \"cold\")\n",
    "                        .when($\"recency\" > OneYear && $\"recency\" <= TwoYears, \"warm\")\n",
    "                        .otherwise(\"active\"))\n",
    "}\n",
    "\n",
    "val segment1Level = firstLevelSegmentation(enriched2)\n",
    "                    \n",
    "\n",
    "segment1Level.groupBy($\"segment1\").count().show()\n",
    "segment1Level.show()"
   ]
  },
  {
   "cell_type": "markdown",
   "metadata": {},
   "source": [
    "## Second level segmentatiom\n",
    "Calculates ONLY 2nd level segmentation"
   ]
  },
  {
   "cell_type": "code",
   "execution_count": 74,
   "metadata": {},
   "outputs": [
    {
     "name": "stdout",
     "output_type": "stream",
     "text": [
      "+-----------------+-----+\n",
      "|         segment2|count|\n",
      "+-----------------+-----+\n",
      "|  warm high value|  119|\n",
      "|active high value|  573|\n",
      "|             null|11061|\n",
      "|         warm new|  938|\n",
      "| active low value| 3313|\n",
      "|       active new| 1512|\n",
      "|   warm low value|  901|\n",
      "+-----------------+-----+\n",
      "\n",
      "+-----------+--------------+-------+---------+------------------+--------+-----------------+\n",
      "|customer_id|first_purchase|recency|frequency|            amount|segment1|         segment2|\n",
      "+-----------+--------------+-------+---------+------------------+--------+-----------------+\n",
      "|       6240|          3752|   3005|        3| 76.66666666666667|inactive|             null|\n",
      "|      52800|          3320|   3320|        1|              15.0|inactive|             null|\n",
      "|     100140|          2750|     13|        4|             51.25|  active| active low value|\n",
      "|     109180|          2616|     30|        8|             48.75|  active| active low value|\n",
      "|     131450|          2228|    205|        8|            103.75|  active|active high value|\n",
      "|      45300|          3667|    234|        6|29.166666666666668|  active| active low value|\n",
      "|      69460|          3179|     15|        9| 28.88888888888889|  active| active low value|\n",
      "|      86180|          2975|      2|        9| 21.11111111111111|  active| active low value|\n",
      "|     161110|          1528|   1528|        1|              30.0|inactive|             null|\n",
      "|      60070|          3288|   2074|        3|51.666666666666664|inactive|             null|\n",
      "|      13610|          3657|   1307|        8|           3043.75|inactive|             null|\n",
      "|     100010|          2750|    413|        7|27.857142857142858|    warm|   warm low value|\n",
      "|     107930|          2626|    150|        5|              79.0|  active| active low value|\n",
      "|     132610|          2211|     30|        7|28.571428571428573|  active| active low value|\n",
      "|     154770|           427|    427|        1|              45.0|    warm|         warm new|\n",
      "|      49290|          3493|    371|        5|              24.0|    warm|   warm low value|\n",
      "|     229650|           419|    419|        1|              45.0|    warm|         warm new|\n",
      "|     220290|           623|    366|        2|              40.0|    warm|         warm new|\n",
      "|     178550|          1247|      3|        8|             56.25|  active| active low value|\n",
      "|     112480|          2577|   1890|        3|38.333333333333336|inactive|             null|\n",
      "+-----------+--------------+-------+---------+------------------+--------+-----------------+\n",
      "only showing top 20 rows\n",
      "\n"
     ]
    },
    {
     "data": {
      "text/plain": [
       "segment2Level = [customer_id: string, first_purchase: int ... 5 more fields]\n"
      ]
     },
     "metadata": {},
     "output_type": "display_data"
    },
    {
     "data": {
      "text/plain": [
       "secondLevelSegmentation: (in: org.apache.spark.sql.DataFrame)org.apache.spark.sql.DataFrame\n"
      ]
     },
     "metadata": {},
     "output_type": "display_data"
    },
    {
     "data": {
      "text/plain": [
       "[customer_id: string, first_purchase: int ... 5 more fields]"
      ]
     },
     "execution_count": 74,
     "metadata": {},
     "output_type": "execute_result"
    }
   ],
   "source": [
    "//Make sure that the conditions for \"warm new\" and \"active new\" come eralier than other conditions with respective \n",
    "//categories for accurate results\n",
    "\n",
    "def secondLevelSegmentation(in:DataFrame) :DataFrame = {\n",
    "    in\n",
    "        .withColumn(\"segment2\",\n",
    "                        when($\"segment1\" === lit(\"warm\") && $\"first_purchase\" <= TwoYears, \"warm new\")\n",
    "                        .when($\"segment1\" === lit(\"warm\") && $\"amount\" >= 100, \"warm high value\")\n",
    "                        .when($\"segment1\" === lit(\"warm\") && $\"amount\" < 100, \"warm low value\")\n",
    "                        .when($\"segment1\" === lit(\"active\") && $\"first_purchase\" <= OneYear, \"active new\")\n",
    "                        .when($\"segment1\" === lit(\"active\") && $\"amount\" >= 100, \"active high value\")\n",
    "                        .when($\"segment1\" === lit(\"active\") && $\"amount\" < 100, \"active low value\"))\n",
    "}\n",
    "val segment2Level = secondLevelSegmentation(segment1Level)\n",
    "\n",
    "segment2Level.groupBy($\"segment2\").count().show()\n",
    "segment2Level.show()"
   ]
  },
  {
   "cell_type": "code",
   "execution_count": 75,
   "metadata": {},
   "outputs": [
    {
     "name": "stdout",
     "output_type": "stream",
     "text": [
      "customer_id\n",
      "first_purchase\n",
      "recency\n",
      "frequency\n",
      "amount\n",
      "segment1\n",
      "+-----------------+-----+\n",
      "|          segment|count|\n",
      "+-----------------+-----+\n",
      "|active high value|  573|\n",
      "| active low value| 3313|\n",
      "|       active new| 1512|\n",
      "|             cold| 1903|\n",
      "|         inactive| 9158|\n",
      "|  warm high value|  119|\n",
      "|   warm low value|  901|\n",
      "|         warm new|  938|\n",
      "+-----------------+-----+\n",
      "\n",
      "+-----------+--------------+-------+---------+------------------+--------+-----------------+-----------------+\n",
      "|customer_id|first_purchase|recency|frequency|            amount|segment1|         segment2|          segment|\n",
      "+-----------+--------------+-------+---------+------------------+--------+-----------------+-----------------+\n",
      "|     131450|          2228|    205|        8|            103.75|  active|active high value|active high value|\n",
      "|     189280|          1106|      1|        3|             100.0|  active|active high value|active high value|\n",
      "|     170050|          1520|     13|        2|             100.0|  active|active high value|active high value|\n",
      "|     232050|           387|     44|        2|             250.0|  active|active high value|active high value|\n",
      "|     100580|          2739|    119|       11|104.54545454545455|  active|active high value|active high value|\n",
      "|       9630|          3801|    105|       11|116.36363636363636|  active|active high value|active high value|\n",
      "|     227630|           426|     74|        2|             100.0|  active|active high value|active high value|\n",
      "|     176240|          1280|    160|        4|             160.0|  active|active high value|active high value|\n",
      "|      18570|          3893|    342|       13|119.23076923076923|  active|active high value|active high value|\n",
      "|     141480|          2032|     69|        7|146.42857142857142|  active|active high value|active high value|\n",
      "|     132350|          2214|     71|        7|185.71428571428572|  active|active high value|active high value|\n",
      "|     175280|          1282|     71|        5|             105.0|  active|active high value|active high value|\n",
      "|     189110|          1107|    248|        3|103.33333333333333|  active|active high value|active high value|\n",
      "|     124350|          2360|    232|        6| 426.6666666666667|  active|active high value|active high value|\n",
      "|     143220|          2004|     34|        6|101.66666666666667|  active|active high value|active high value|\n",
      "|     115440|          2557|      1|        7|105.71428571428571|  active|active high value|active high value|\n",
      "|     233700|           367|      1|        2|             100.0|  active|active high value|active high value|\n",
      "|      93790|          2857|    261|       11| 560.6272727272727|  active|active high value|active high value|\n",
      "|     215510|           731|     20|        3|             500.0|  active|active high value|active high value|\n",
      "|     182630|          1163|     30|        4|             150.0|  active|active high value|active high value|\n",
      "+-----------+--------------+-------+---------+------------------+--------+-----------------+-----------------+\n",
      "only showing top 20 rows\n",
      "\n"
     ]
    },
    {
     "data": {
      "text/plain": [
       "cols = Array(customer_id, first_purchase, recency, frequency, amount, segment1)\n",
       "segmented = [customer_id: string, first_purchase: int ... 6 more fields]\n"
      ]
     },
     "metadata": {},
     "output_type": "display_data"
    },
    {
     "data": {
      "text/plain": [
       "segmentation: (segment1Level: org.apache.spark.sql.DataFrame, segment2Level: org.apache.spark.sql.DataFrame)org.apache.spark.sql.DataFrame\n"
      ]
     },
     "metadata": {},
     "output_type": "display_data"
    },
    {
     "data": {
      "text/plain": [
       "[customer_id: string, first_purchase: int ... 6 more fields]"
      ]
     },
     "execution_count": 75,
     "metadata": {},
     "output_type": "execute_result"
    }
   ],
   "source": [
    "val cols = segment1Level.schema.fieldNames.map(col(_))\n",
    "cols.foreach(println)\n",
    "\n",
    "def segmentation(segment1Level:DataFrame, segment2Level:DataFrame) :DataFrame = {\n",
    "    segment1Level\n",
    "        .join(segment2Level, segment1Level(\"customer_id\") === segment2Level(\"customer_id\"), \"inner\")\n",
    "            .select(segment1Level(\"customer_id\"),\n",
    "                    segment1Level(\"first_purchase\"),\n",
    "                    segment1Level(\"recency\"),\n",
    "                    segment1Level(\"frequency\"),\n",
    "                    segment1Level(\"amount\"),\n",
    "                    segment1Level(\"segment1\"),\n",
    "                    segment2Level(\"segment2\"))\n",
    "            .withColumn(\"segment\", when(segment2Level(\"segment2\").isNotNull, $\"segment2\").otherwise(segment1Level(\"segment1\")))\n",
    "            .orderBy(\"segment\")\n",
    "        \n",
    "}\n",
    "\n",
    "val segmented = segmentation(segment1Level, segment2Level)\n",
    "\n",
    "//Cache to simplify subsequent calculations\n",
    "segmented.cache()\n",
    "\n",
    "segmented.groupBy($\"segment\").count().show()\n",
    "segmented.show()"
   ]
  },
  {
   "cell_type": "markdown",
   "metadata": {},
   "source": [
    "**NOTE: We can combine the calculation of both 1st and 2nd level segments into one code base but separating them simplifies testing and better maintenance**"
   ]
  },
  {
   "cell_type": "markdown",
   "metadata": {},
   "source": [
    "### Profile of each segment for 2015"
   ]
  },
  {
   "cell_type": "code",
   "execution_count": 76,
   "metadata": {},
   "outputs": [
    {
     "data": {
      "text/plain": [
       "segmentProfile: (segmented: org.apache.spark.sql.DataFrame, segColName: String)org.apache.spark.sql.DataFrame\n"
      ]
     },
     "metadata": {},
     "output_type": "display_data"
    },
    {
     "name": "stdout",
     "output_type": "stream",
     "text": [
      "+-----------------+-------+-----+------+\n",
      "|segment          |avg_r  |avg_f|avg_a |\n",
      "+-----------------+-------+-----+------+\n",
      "|active high value|88.82  |5.89 |240.05|\n",
      "|active low value |108.36 |5.94 |40.72 |\n",
      "|active new       |84.99  |1.05 |77.13 |\n",
      "|cold             |857.78 |2.3  |51.74 |\n",
      "|inactive         |2178.11|1.81 |48.11 |\n",
      "|warm high value  |455.13 |4.71 |327.41|\n",
      "|warm low value   |474.38 |4.53 |38.59 |\n",
      "|warm new         |509.3  |1.04 |66.6  |\n",
      "+-----------------+-------+-----+------+\n",
      "\n"
     ]
    }
   ],
   "source": [
    "def segmentProfile(segmented: DataFrame, segColName: String) :DataFrame = {\n",
    "    segmented\n",
    "        .groupBy(col(segColName))\n",
    "        .agg(\n",
    "                round(avg($\"recency\"),2).alias(\"avg_r\"),\n",
    "                round(avg($\"frequency\"),2).alias(\"avg_f\"),\n",
    "                round(avg($\"amount\"),2).alias(\"avg_a\"))\n",
    "        .orderBy(col(segColName))\n",
    "}\n",
    "\n",
    "segmentProfile(segmented, \"segment\").show(10, truncate=false)"
   ]
  },
  {
   "cell_type": "markdown",
   "metadata": {},
   "source": [
    "## Segment a Database Retrospectively i.e. 2014\n",
    "Taht is the segmentation of the database as if we were a **year ago**. \n",
    "\n",
    "**How did it work?**\n",
    "\n",
    "The first thing to do is to remember that we are a year ago. Meaning that whatever data we take into account, anything that has happened over the last 365 days should be discarded.\n",
    "\n",
    "We go back in time, assume the data that has been generated over the last year, for instance over the last period did not even exist. Adapt how we compute recency, frequency, monetary value and accordingly. And then we just apply everything we have applied before, same segmentation, same transformation, same analyses, and same tables.\n",
    "\n",
    "**Why do we need to segment retrospectively?**\n",
    "\n",
    "From a managerial point of view, it is also extremely useful to see not only to what extent each segment contributes to today's revenues. But also to what extent each segment today would likely contribute to tomorrow's revenues."
   ]
  },
  {
   "cell_type": "code",
   "execution_count": 77,
   "metadata": {},
   "outputs": [
    {
     "name": "stdout",
     "output_type": "stream",
     "text": [
      "+--------+-------+-----+-----+\n",
      "|segment1|avg_r  |avg_f|avg_a|\n",
      "+--------+-------+-----+-----+\n",
      "|active  |106.78 |4.31 |70.37|\n",
      "|cold    |866.62 |2.25 |51.11|\n",
      "|inactive|2058.44|1.73 |48.11|\n",
      "|warm    |484.59 |2.58 |52.14|\n",
      "+--------+-------+-----+-----+\n",
      "\n",
      "+-----------------+-------+-----+------+\n",
      "|segment2         |avg_r  |avg_f|avg_a |\n",
      "+-----------------+-------+-----+------+\n",
      "|null             |1792.95|1.85 |48.78 |\n",
      "|active high value|85.34  |5.7  |261.9 |\n",
      "|active low value |98.09  |5.63 |40.46 |\n",
      "|active new       |132.09 |1.07 |69.73 |\n",
      "|warm high value  |461.2  |4.41 |187.85|\n",
      "|warm low value   |470.66 |4.36 |37.38 |\n",
      "|warm new         |497.32 |1.06 |51.37 |\n",
      "+-----------------+-------+-----+------+\n",
      "\n",
      "root\n",
      " |-- customer_id: string (nullable = true)\n",
      " |-- first_purchase: integer (nullable = true)\n",
      " |-- recency: integer (nullable = true)\n",
      " |-- frequency: long (nullable = false)\n",
      " |-- amount: double (nullable = true)\n",
      " |-- segment1: string (nullable = false)\n",
      " |-- segment2: string (nullable = true)\n",
      " |-- segment: string (nullable = true)\n",
      "\n",
      "root\n",
      " |-- customer_id: string (nullable = true)\n",
      " |-- first_purchase: integer (nullable = true)\n",
      " |-- recency: integer (nullable = true)\n",
      " |-- frequency: long (nullable = false)\n",
      " |-- amount: double (nullable = true)\n",
      "\n",
      "root\n",
      " |-- customer_id: string (nullable = true)\n",
      " |-- first_purchase: integer (nullable = true)\n",
      " |-- recency: integer (nullable = true)\n",
      " |-- frequency: long (nullable = false)\n",
      " |-- amount: double (nullable = true)\n",
      " |-- segment1: string (nullable = false)\n",
      " |-- segment2: string (nullable = true)\n",
      " |-- segment: string (nullable = true)\n",
      "\n",
      "# of customers 2015: 18417\n",
      "# of customers 2014: 16905\n",
      "+-----------------+-------+-----+------+\n",
      "|segment          |avg_r  |avg_f|avg_a |\n",
      "+-----------------+-------+-----+------+\n",
      "|active high value|85.34  |5.7  |261.9 |\n",
      "|active low value |98.09  |5.63 |40.46 |\n",
      "|active new       |132.09 |1.07 |69.73 |\n",
      "|cold             |866.62 |2.25 |51.11 |\n",
      "|inactive         |2058.44|1.73 |48.11 |\n",
      "|warm high value  |461.2  |4.41 |187.85|\n",
      "|warm low value   |470.66 |4.36 |37.38 |\n",
      "|warm new         |497.32 |1.06 |51.37 |\n",
      "+-----------------+-------+-----+------+\n",
      "\n"
     ]
    },
    {
     "data": {
      "text/plain": [
       "customers2015 = [customer_id: string, first_purchase: int ... 6 more fields]\n",
       "enriched2014 = [customer_id: string, purchase_amount: double ... 4 more fields]\n",
       "customers2014 = [customer_id: string, first_purchase: int ... 3 more fields]\n",
       "first = [customer_id: string, first_purchase: int ... 4 more fields]\n",
       "second = [customer_id: string, first_purchase: int ... 5 more fields]\n",
       "segmented2014 = [customer_id: string, first_purchase: int ... 6 more fields]\n"
      ]
     },
     "metadata": {},
     "output_type": "display_data"
    },
    {
     "data": {
      "text/plain": [
       "[customer_id: string, first_purchase: int ... 6 more fields]"
      ]
     },
     "execution_count": 77,
     "metadata": {},
     "output_type": "execute_result"
    }
   ],
   "source": [
    "val customers2015 = segmented\n",
    "val enriched2014 = enrich(data.filter(year($\"date_of_purchase\") <= 2014), lit(\"2015-01-01\"))\n",
    "val customers2014 = calcRFM(enriched2014)\n",
    "\n",
    "val first = firstLevelSegmentation(customers2014)\n",
    "segmentProfile(first, \"segment1\").show(10, truncate=false)\n",
    "\n",
    "val second = secondLevelSegmentation(first)\n",
    "segmentProfile(second, \"segment2\").show(10, truncate=false)\n",
    "\n",
    "val segmented2014 = segmentation(first, second)\n",
    "\n",
    "customers2015.printSchema()\n",
    "customers2014.printSchema()\n",
    "segmented2014.printSchema()\n",
    "\n",
    "println(\"# of customers 2015: \"+ customers2015.count())\n",
    "println(\"# of customers 2014: \"+ customers2014.count())\n",
    "\n",
    "segmentProfile(segmented2014, \"segment\").show(10, truncate=false)"
   ]
  },
  {
   "cell_type": "markdown",
   "metadata": {},
   "source": [
    "## Revenue Generation Per Segment"
   ]
  },
  {
   "cell_type": "code",
   "execution_count": 78,
   "metadata": {},
   "outputs": [
    {
     "name": "stdout",
     "output_type": "stream",
     "text": [
      "+-------+------------------+\n",
      "|summary|      revenue_2015|\n",
      "+-------+------------------+\n",
      "|  count|              5398|\n",
      "|   mean| 88.62432938125232|\n",
      "| stddev|224.35689735796478|\n",
      "|    min|               5.0|\n",
      "|    max|            4500.0|\n",
      "+-------+------------------+\n",
      "\n"
     ]
    },
    {
     "data": {
      "text/plain": [
       "revenue2015 = [customer_id: string, revenue_2015: double]\n"
      ]
     },
     "metadata": {},
     "output_type": "display_data"
    },
    {
     "data": {
      "text/plain": [
       "[customer_id: string, revenue_2015: double]"
      ]
     },
     "execution_count": 78,
     "metadata": {},
     "output_type": "execute_result"
    }
   ],
   "source": [
    "//Compute how much revenue is generated by each segment in 2015\n",
    "//Notice that people with no revenue in 2015 do NOT appear\n",
    "//i.e. we select only active customers\n",
    "val revenue2015 = enriched1\n",
    "                    .filter($\"year_of_purchase\" === 2015)\n",
    "                    .groupBy($\"customer_id\")\n",
    "                    .agg(sum($\"purchase_amount\").alias(\"revenue_2015\"))\n",
    "revenue2015.describe(\"revenue_2015\").show()"
   ]
  },
  {
   "cell_type": "markdown",
   "metadata": {},
   "source": [
    "### Show avg. revenue per customers and per segment for 2015"
   ]
  },
  {
   "cell_type": "code",
   "execution_count": 79,
   "metadata": {},
   "outputs": [
    {
     "name": "stdout",
     "output_type": "stream",
     "text": [
      "No of rows: 18417\n",
      "+-------+------------------+\n",
      "|summary|      revenue_2015|\n",
      "+-------+------------------+\n",
      "|  count|             18417|\n",
      "|   mean|25.975681707118422|\n",
      "| stddev| 127.9801632917415|\n",
      "|    min|               0.0|\n",
      "|    max|            4500.0|\n",
      "+-------+------------------+\n",
      "\n",
      "+-----------------+----------------+\n",
      "|          segment|avg_revenue_2015|\n",
      "+-----------------+----------------+\n",
      "|active high value|          323.57|\n",
      "| active low value|           52.31|\n",
      "|       active new|           79.17|\n",
      "|             cold|             0.0|\n",
      "|         inactive|             0.0|\n",
      "|  warm high value|             0.0|\n",
      "|   warm low value|             0.0|\n",
      "|         warm new|             0.0|\n",
      "+-----------------+----------------+\n",
      "\n"
     ]
    },
    {
     "data": {
      "text/plain": [
       "actuals = [customer_id: string, first_purchase: int ... 7 more fields]\n"
      ]
     },
     "metadata": {},
     "output_type": "display_data"
    },
    {
     "data": {
      "text/plain": [
       "[customer_id: string, first_purchase: int ... 7 more fields]"
      ]
     },
     "execution_count": 79,
     "metadata": {},
     "output_type": "execute_result"
    }
   ],
   "source": [
    "//we need to do left-join so that we can bring the customers who didn't generate revenue for 2015 i.e. didnt\n",
    "//make any purchases in 2015\n",
    "\n",
    "val actuals = customers2015\n",
    "                .join(revenue2015, Seq(\"customer_id\"), \"left\")\n",
    "                .na\n",
    "                .fill(0.0, Seq(\"revenue_2015\"))\n",
    "println(\"No of rows: \"+actuals.count())\n",
    "\n",
    "actuals.describe(\"revenue_2015\").show()\n",
    "\n",
    "actuals\n",
    "    .groupBy($\"segment\")\n",
    "    .agg(round(avg($\"revenue_2015\"),2).alias(\"avg_revenue_2015\"))\n",
    "    .orderBy($\"segment\")\n",
    "    .show()"
   ]
  },
  {
   "cell_type": "markdown",
   "metadata": {},
   "source": [
    "###  Show avg. revenue per customers and per segment for 2014 (FORWARD looking)\n",
    "How much revenue you can expect from your active customers today (today in this data set is 2015), next year. We don't' know the future, we don't know exactly what's going to happen, but the one thing we can do, is to go back in the past (2014). And look at how much revenue we got from inactive customers in 2014, going into 2015. And that's the next step of this analysis. So what we'll do, is to merge the revenue generated in 2015, as before. But we're going to merge them with the customer list of 2014. And so we're going to look into, how much revenue's been generated by each customer, based on the segment they were in, a year ago.\n",
    "\n",
    "And that's why we call it forward. Forward, as the segment in 2014 will enlight us, about how much revenue have been generated in 2015 from these customers."
   ]
  },
  {
   "cell_type": "code",
   "execution_count": 80,
   "metadata": {},
   "outputs": [
    {
     "name": "stdout",
     "output_type": "stream",
     "text": [
      "+-------+------------------+\n",
      "|summary|      revenue_2015|\n",
      "+-------+------------------+\n",
      "|  count|             16905|\n",
      "|   mean|21.218273883466434|\n",
      "| stddev|111.24529944791601|\n",
      "|    min|               0.0|\n",
      "|    max|            4500.0|\n",
      "+-------+------------------+\n",
      "\n",
      "+-----------------+----------------+\n",
      "|          segment|avg_revenue_2015|\n",
      "+-----------------+----------------+\n",
      "|active high value|          254.08|\n",
      "| active low value|            41.9|\n",
      "|       active new|           31.05|\n",
      "|             cold|            6.11|\n",
      "|         inactive|            2.95|\n",
      "|  warm high value|          114.46|\n",
      "|   warm low value|           13.49|\n",
      "|         warm new|            5.06|\n",
      "+-----------------+----------------+\n",
      "\n"
     ]
    },
    {
     "data": {
      "text/plain": [
       "forward = [customer_id: string, first_purchase: int ... 7 more fields]\n"
      ]
     },
     "metadata": {},
     "output_type": "display_data"
    },
    {
     "data": {
      "text/plain": [
       "[customer_id: string, first_purchase: int ... 7 more fields]"
      ]
     },
     "execution_count": 80,
     "metadata": {},
     "output_type": "execute_result"
    }
   ],
   "source": [
    "//Merge 2014 customers with 2015 revenue\n",
    "val forward = segmented2014\n",
    "                .join(revenue2015, Seq(\"customer_id\"), \"left\")\n",
    "                .na\n",
    "                .fill(0.0, Seq(\"revenue_2015\"))\n",
    "forward.describe(\"revenue_2015\").show()\n",
    "\n",
    "forward\n",
    "    .groupBy($\"segment\")\n",
    "    .agg(round(avg($\"revenue_2015\"),2).alias(\"avg_revenue_2015\"))\n",
    "    .orderBy($\"segment\")\n",
    "    .show()"
   ]
  },
  {
   "cell_type": "markdown",
   "metadata": {},
   "source": [
    "### Observations\n",
    "\n",
    "- \"Inactive\" customer is 2014 has generated, on average, 3 dollar of revenue in 2015\n",
    "- Many (\"cold\", \"inactive\", \"warm new\" & \"warm low value\") have generated nothig\n",
    "- A \"warm high value\" customer generated an average, close to 114 dollars in 2015\n",
    "- A \"warm high value\" customer is actually worth a lot more money than, for instance, a \"active new\" customer, who has just made one purchase, and might not remain active a year from now\n",
    "- Most profitable customers\n",
    "    - \"Active high value\" customers come first with 254\n",
    "    - \"warm high value\" customers come second with 114, and look at that, \n",
    "    - the \"active new\" customers only come fourth with only an expected revenue of 31 dollars, coming in next year.\n",
    "- And so, from a managerial perspective, it's really interesting to understand that a customer in the active high value segment, going in the next 12 months, is worth six times more, than say, a new active customer"
   ]
  }
 ],
 "metadata": {
  "kernelspec": {
   "display_name": "Apache Toree - Scala",
   "language": "scala",
   "name": "apache_toree_scala"
  },
  "language_info": {
   "codemirror_mode": "text/x-scala",
   "file_extension": ".scala",
   "mimetype": "text/x-scala",
   "name": "scala",
   "pygments_lexer": "scala",
   "version": "2.11.12"
  }
 },
 "nbformat": 4,
 "nbformat_minor": 4
}
