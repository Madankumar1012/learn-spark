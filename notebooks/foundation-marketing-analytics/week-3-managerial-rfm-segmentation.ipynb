{
 "cells": [
  {
   "cell_type": "markdown",
   "metadata": {},
   "source": [
    "# RFM Managerial Segmentation\n",
    "Manegerial segmentation is simple and based on rules than ML or Statistiacal models.\n",
    "\n",
    "![Rules](rfm-seg-rules.png)"
   ]
  },
  {
   "cell_type": "code",
   "execution_count": 1,
   "metadata": {},
   "outputs": [],
   "source": [
    "import java.util.concurrent.TimeUnit\n",
    "import scala.collection.mutable.ListBuffer\n",
    "import org.apache.spark.sql.DataFrame\n",
    "import org.apache.spark.sql.types._\n",
    "import org.apache.spark.sql.functions._"
   ]
  },
  {
   "cell_type": "code",
   "execution_count": 2,
   "metadata": {},
   "outputs": [
    {
     "data": {
      "text/plain": [
       "schema = StructType(StructField(customer_id,StringType,false), StructField(purchase_amount,DoubleType,false), StructField(date_of_purchase,DateType,false))\n",
       "data = [customer_id: string, purchase_amount: double ... 1 more field]\n"
      ]
     },
     "metadata": {},
     "output_type": "display_data"
    },
    {
     "data": {
      "text/plain": [
       "[customer_id: string, purchase_amount: double ... 1 more field]"
      ]
     },
     "execution_count": 2,
     "metadata": {},
     "output_type": "execute_result"
    }
   ],
   "source": [
    "val schema = StructType(\n",
    "                List(\n",
    "                    StructField(\"customer_id\", StringType, false),\n",
    "                    StructField(\"purchase_amount\", DoubleType, false),\n",
    "                    StructField(\"date_of_purchase\", DateType, false)\n",
    "                )\n",
    "            )\n",
    "val data = spark.read\n",
    "                .option(\"sep\", \"\\t\")\n",
    "                .option(\"mode\",\"FAILFAST\")\n",
    "                .option(\"dateFormat\",\"YYYY-MM-dd\")\n",
    "                .schema(schema)\n",
    "                .csv(\"../../data/foundation-marketing-analytics/purchases.txt\")\n",
    "                .toDF"
   ]
  },
  {
   "cell_type": "code",
   "execution_count": 3,
   "metadata": {},
   "outputs": [
    {
     "name": "stdout",
     "output_type": "stream",
     "text": [
      "root\n",
      " |-- customer_id: string (nullable = true)\n",
      " |-- purchase_amount: double (nullable = true)\n",
      " |-- date_of_purchase: date (nullable = true)\n",
      " |-- end_date: string (nullable = false)\n",
      " |-- year_of_purchase: integer (nullable = true)\n",
      " |-- days_since: integer (nullable = true)\n",
      "\n"
     ]
    },
    {
     "data": {
      "text/plain": [
       "enriched1 = [customer_id: string, purchase_amount: double ... 4 more fields]\n"
      ]
     },
     "metadata": {},
     "output_type": "display_data"
    },
    {
     "data": {
      "text/plain": [
       "[customer_id: string, purchase_amount: double ... 4 more fields]"
      ]
     },
     "execution_count": 3,
     "metadata": {},
     "output_type": "execute_result"
    }
   ],
   "source": [
    "val enriched1 = data\n",
    "                    .withColumn(\"end_date\", lit(\"2016-01-01\"))\n",
    "                    .withColumn(\"year_of_purchase\", year($\"date_of_purchase\"))\n",
    "                    .withColumn(\"days_since\", datediff($\"end_date\", $\"date_of_purchase\"))\n",
    "enriched1.printSchema()"
   ]
  },
  {
   "cell_type": "code",
   "execution_count": 4,
   "metadata": {},
   "outputs": [
    {
     "name": "stdout",
     "output_type": "stream",
     "text": [
      "+-----------+--------------+-------+---------+------+\n",
      "|customer_id|first_purchase|recency|frequency|amount|\n",
      "+-----------+--------------+-------+---------+------+\n",
      "|         90|          3783|    758|       10| 115.8|\n",
      "|         10|          3829|   3829|        1|  30.0|\n",
      "+-----------+--------------+-------+---------+------+\n",
      "\n"
     ]
    },
    {
     "data": {
      "text/plain": [
       "OneYear = 365\n",
       "TwoYears = 730\n",
       "ThreeYears = 1095\n",
       "enriched2 = [customer_id: string, first_purchase: int ... 3 more fields]\n"
      ]
     },
     "metadata": {},
     "output_type": "display_data"
    },
    {
     "data": {
      "text/plain": [
       "[customer_id: string, first_purchase: int ... 3 more fields]"
      ]
     },
     "execution_count": 4,
     "metadata": {},
     "output_type": "execute_result"
    }
   ],
   "source": [
    "val OneYear = 365\n",
    "val TwoYears = OneYear * 2\n",
    "val ThreeYears = OneYear * 3\n",
    "\n",
    "val enriched2 = enriched1\n",
    "                .groupBy($\"customer_id\")\n",
    "                .agg(\n",
    "                    max($\"days_since\").alias(\"first_purchase\"),\n",
    "                    min($\"days_since\").alias(\"recency\"),\n",
    "                    count($\"*\").alias(\"frequency\"),\n",
    "                    avg($\"purchase_amount\").alias(\"amount\"))\n",
    "\n",
    "enriched2.filter($\"customer_id\".isin(\"10\", \"90\")).show(5)"
   ]
  },
  {
   "cell_type": "code",
   "execution_count": null,
   "metadata": {},
   "outputs": [],
   "source": []
  }
 ],
 "metadata": {
  "kernelspec": {
   "display_name": "Apache Toree - Scala",
   "language": "scala",
   "name": "apache_toree_scala"
  },
  "language_info": {
   "codemirror_mode": "text/x-scala",
   "file_extension": ".scala",
   "mimetype": "text/x-scala",
   "name": "scala",
   "pygments_lexer": "scala",
   "version": "2.11.12"
  }
 },
 "nbformat": 4,
 "nbformat_minor": 4
}
