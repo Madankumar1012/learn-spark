{
 "cells": [
  {
   "cell_type": "markdown",
   "metadata": {},
   "source": [
    "# RFM Managerial Segmentation\n",
    "Manegerial segmentation is simple and based on rules than ML or Statistiacal models.\n",
    "\n",
    "![Rules](rfm-seg-rules.png)"
   ]
  },
  {
   "cell_type": "code",
   "execution_count": 1,
   "metadata": {},
   "outputs": [],
   "source": [
    "import java.util.concurrent.TimeUnit\n",
    "import scala.collection.mutable.ListBuffer\n",
    "import org.apache.spark.sql.DataFrame\n",
    "import org.apache.spark.sql.types._\n",
    "import org.apache.spark.sql.functions._"
   ]
  },
  {
   "cell_type": "code",
   "execution_count": 2,
   "metadata": {},
   "outputs": [
    {
     "data": {
      "text/plain": [
       "schema = StructType(StructField(customer_id,StringType,false), StructField(purchase_amount,DoubleType,false), StructField(date_of_purchase,DateType,false))\n",
       "data = [customer_id: string, purchase_amount: double ... 1 more field]\n"
      ]
     },
     "metadata": {},
     "output_type": "display_data"
    },
    {
     "data": {
      "text/plain": [
       "[customer_id: string, purchase_amount: double ... 1 more field]"
      ]
     },
     "execution_count": 2,
     "metadata": {},
     "output_type": "execute_result"
    }
   ],
   "source": [
    "val schema = StructType(\n",
    "                List(\n",
    "                    StructField(\"customer_id\", StringType, false),\n",
    "                    StructField(\"purchase_amount\", DoubleType, false),\n",
    "                    StructField(\"date_of_purchase\", DateType, false)\n",
    "                )\n",
    "            )\n",
    "val data = spark.read\n",
    "                .option(\"sep\", \"\\t\")\n",
    "                .option(\"mode\",\"FAILFAST\")\n",
    "                .option(\"dateFormat\",\"YYYY-MM-dd\")\n",
    "                .schema(schema)\n",
    "                .csv(\"../../data/foundation-marketing-analytics/purchases.txt\")\n",
    "                .toDF"
   ]
  },
  {
   "cell_type": "code",
   "execution_count": 3,
   "metadata": {},
   "outputs": [
    {
     "name": "stdout",
     "output_type": "stream",
     "text": [
      "root\n",
      " |-- customer_id: string (nullable = true)\n",
      " |-- purchase_amount: double (nullable = true)\n",
      " |-- date_of_purchase: date (nullable = true)\n",
      " |-- end_date: string (nullable = false)\n",
      " |-- year_of_purchase: integer (nullable = true)\n",
      " |-- days_since: integer (nullable = true)\n",
      "\n"
     ]
    },
    {
     "data": {
      "text/plain": [
       "enriched1 = [customer_id: string, purchase_amount: double ... 4 more fields]\n"
      ]
     },
     "metadata": {},
     "output_type": "display_data"
    },
    {
     "data": {
      "text/plain": [
       "[customer_id: string, purchase_amount: double ... 4 more fields]"
      ]
     },
     "execution_count": 3,
     "metadata": {},
     "output_type": "execute_result"
    }
   ],
   "source": [
    "val enriched1 = data\n",
    "                    .withColumn(\"end_date\", lit(\"2016-01-01\"))\n",
    "                    .withColumn(\"year_of_purchase\", year($\"date_of_purchase\"))\n",
    "                    .withColumn(\"days_since\", datediff($\"end_date\", $\"date_of_purchase\"))\n",
    "enriched1.printSchema()"
   ]
  },
  {
   "cell_type": "code",
   "execution_count": 4,
   "metadata": {},
   "outputs": [
    {
     "name": "stdout",
     "output_type": "stream",
     "text": [
      "+-----------+--------------+-------+---------+------+\n",
      "|customer_id|first_purchase|recency|frequency|amount|\n",
      "+-----------+--------------+-------+---------+------+\n",
      "|         90|          3783|    758|       10| 115.8|\n",
      "|         10|          3829|   3829|        1|  30.0|\n",
      "+-----------+--------------+-------+---------+------+\n",
      "\n"
     ]
    },
    {
     "data": {
      "text/plain": [
       "OneYear = 365\n",
       "TwoYears = 730\n",
       "ThreeYears = 1095\n",
       "enriched2 = [customer_id: string, first_purchase: int ... 3 more fields]\n"
      ]
     },
     "metadata": {},
     "output_type": "display_data"
    },
    {
     "data": {
      "text/plain": [
       "[customer_id: string, first_purchase: int ... 3 more fields]"
      ]
     },
     "execution_count": 4,
     "metadata": {},
     "output_type": "execute_result"
    }
   ],
   "source": [
    "val OneYear = 365\n",
    "val TwoYears = OneYear * 2\n",
    "val ThreeYears = OneYear * 3\n",
    "\n",
    "val enriched2 = enriched1\n",
    "                .groupBy($\"customer_id\")\n",
    "                .agg(\n",
    "                    max($\"days_since\").alias(\"first_purchase\"),\n",
    "                    min($\"days_since\").alias(\"recency\"),\n",
    "                    count($\"*\").alias(\"frequency\"),\n",
    "                    avg($\"purchase_amount\").alias(\"amount\"))\n",
    "\n",
    "enriched2.filter($\"customer_id\".isin(\"10\", \"90\")).show(5)"
   ]
  },
  {
   "cell_type": "markdown",
   "metadata": {},
   "source": [
    "## First level segmentation\n",
    "Calculates only first level segmentation"
   ]
  },
  {
   "cell_type": "code",
   "execution_count": 5,
   "metadata": {},
   "outputs": [
    {
     "name": "stdout",
     "output_type": "stream",
     "text": [
      "+--------+-----+\n",
      "|segment1|count|\n",
      "+--------+-----+\n",
      "|    warm| 1958|\n",
      "|  active| 5398|\n",
      "|    cold| 1903|\n",
      "|inactive| 9158|\n",
      "+--------+-----+\n",
      "\n",
      "+-----------+--------------+-------+---------+------------------+--------+\n",
      "|customer_id|first_purchase|recency|frequency|            amount|segment1|\n",
      "+-----------+--------------+-------+---------+------------------+--------+\n",
      "|       6240|          3752|   3005|        3| 76.66666666666667|inactive|\n",
      "|      52800|          3320|   3320|        1|              15.0|inactive|\n",
      "|     100140|          2750|     13|        4|             51.25|  active|\n",
      "|     109180|          2616|     30|        8|             48.75|  active|\n",
      "|     131450|          2228|    205|        8|            103.75|  active|\n",
      "|      45300|          3667|    234|        6|29.166666666666668|  active|\n",
      "|      69460|          3179|     15|        9| 28.88888888888889|  active|\n",
      "|      86180|          2975|      2|        9| 21.11111111111111|  active|\n",
      "|     161110|          1528|   1528|        1|              30.0|inactive|\n",
      "|      60070|          3288|   2074|        3|51.666666666666664|inactive|\n",
      "|      13610|          3657|   1307|        8|           3043.75|inactive|\n",
      "|     100010|          2750|    413|        7|27.857142857142858|    warm|\n",
      "|     107930|          2626|    150|        5|              79.0|  active|\n",
      "|     132610|          2211|     30|        7|28.571428571428573|  active|\n",
      "|     154770|           427|    427|        1|              45.0|    warm|\n",
      "|      49290|          3493|    371|        5|              24.0|    warm|\n",
      "|     229650|           419|    419|        1|              45.0|    warm|\n",
      "|     220290|           623|    366|        2|              40.0|    warm|\n",
      "|     178550|          1247|      3|        8|             56.25|  active|\n",
      "|     112480|          2577|   1890|        3|38.333333333333336|inactive|\n",
      "+-----------+--------------+-------+---------+------------------+--------+\n",
      "only showing top 20 rows\n",
      "\n"
     ]
    },
    {
     "data": {
      "text/plain": [
       "segment1Level = [customer_id: string, first_purchase: int ... 4 more fields]\n"
      ]
     },
     "metadata": {},
     "output_type": "display_data"
    },
    {
     "data": {
      "text/plain": [
       "[customer_id: string, first_purchase: int ... 4 more fields]"
      ]
     },
     "execution_count": 5,
     "metadata": {},
     "output_type": "execute_result"
    }
   ],
   "source": [
    "val segment1Level = enriched2\n",
    "                    .withColumn(\"segment1\", \n",
    "                                when($\"recency\" > ThreeYears, \"inactive\")\n",
    "                                .when($\"recency\" > TwoYears && $\"recency\" <= ThreeYears, \"cold\")\n",
    "                                .when($\"recency\" > OneYear && $\"recency\" <= TwoYears, \"warm\")\n",
    "                                .otherwise(\"active\"))\n",
    "\n",
    "segment1Level.groupBy($\"segment1\").count().show()\n",
    "segment1Level.show()"
   ]
  },
  {
   "cell_type": "markdown",
   "metadata": {},
   "source": [
    "## Second level segmentatiom\n",
    "Calculates ONLY 2nd level segmentation"
   ]
  },
  {
   "cell_type": "code",
   "execution_count": 6,
   "metadata": {},
   "outputs": [
    {
     "name": "stdout",
     "output_type": "stream",
     "text": [
      "+-----------------+-----+\n",
      "|         segment2|count|\n",
      "+-----------------+-----+\n",
      "|  warm high value|  119|\n",
      "|active high value|  573|\n",
      "|             null|11061|\n",
      "|         warm new|  938|\n",
      "| active low value| 3313|\n",
      "|       active new| 1512|\n",
      "|   warm low value|  901|\n",
      "+-----------------+-----+\n",
      "\n",
      "+-----------+--------------+-------+---------+------------------+--------+-----------------+\n",
      "|customer_id|first_purchase|recency|frequency|            amount|segment1|         segment2|\n",
      "+-----------+--------------+-------+---------+------------------+--------+-----------------+\n",
      "|       6240|          3752|   3005|        3| 76.66666666666667|inactive|             null|\n",
      "|      52800|          3320|   3320|        1|              15.0|inactive|             null|\n",
      "|     100140|          2750|     13|        4|             51.25|  active| active low value|\n",
      "|     109180|          2616|     30|        8|             48.75|  active| active low value|\n",
      "|     131450|          2228|    205|        8|            103.75|  active|active high value|\n",
      "|      45300|          3667|    234|        6|29.166666666666668|  active| active low value|\n",
      "|      69460|          3179|     15|        9| 28.88888888888889|  active| active low value|\n",
      "|      86180|          2975|      2|        9| 21.11111111111111|  active| active low value|\n",
      "|     161110|          1528|   1528|        1|              30.0|inactive|             null|\n",
      "|      60070|          3288|   2074|        3|51.666666666666664|inactive|             null|\n",
      "|      13610|          3657|   1307|        8|           3043.75|inactive|             null|\n",
      "|     100010|          2750|    413|        7|27.857142857142858|    warm|   warm low value|\n",
      "|     107930|          2626|    150|        5|              79.0|  active| active low value|\n",
      "|     132610|          2211|     30|        7|28.571428571428573|  active| active low value|\n",
      "|     154770|           427|    427|        1|              45.0|    warm|         warm new|\n",
      "|      49290|          3493|    371|        5|              24.0|    warm|   warm low value|\n",
      "|     229650|           419|    419|        1|              45.0|    warm|         warm new|\n",
      "|     220290|           623|    366|        2|              40.0|    warm|         warm new|\n",
      "|     178550|          1247|      3|        8|             56.25|  active| active low value|\n",
      "|     112480|          2577|   1890|        3|38.333333333333336|inactive|             null|\n",
      "+-----------+--------------+-------+---------+------------------+--------+-----------------+\n",
      "only showing top 20 rows\n",
      "\n"
     ]
    },
    {
     "data": {
      "text/plain": [
       "segment2Level = [customer_id: string, first_purchase: int ... 5 more fields]\n"
      ]
     },
     "metadata": {},
     "output_type": "display_data"
    },
    {
     "data": {
      "text/plain": [
       "[customer_id: string, first_purchase: int ... 5 more fields]"
      ]
     },
     "execution_count": 6,
     "metadata": {},
     "output_type": "execute_result"
    }
   ],
   "source": [
    "//Make sure that the conditions for \"warm new\" and \"active new\" come eralier than other conditions with respective \n",
    "//categories for accurate results\n",
    "\n",
    "val segment2Level = segment1Level.withColumn(\"segment2\",\n",
    "                        when($\"segment1\" === lit(\"warm\") && $\"first_purchase\" <= TwoYears, \"warm new\")\n",
    "                        .when($\"segment1\" === lit(\"warm\") && $\"amount\" >= 100, \"warm high value\")\n",
    "                        .when($\"segment1\" === lit(\"warm\") && $\"amount\" < 100, \"warm low value\")\n",
    "                        .when($\"segment1\" === lit(\"active\") && $\"first_purchase\" <= OneYear, \"active new\")\n",
    "                        .when($\"segment1\" === lit(\"active\") && $\"amount\" >= 100, \"active high value\")\n",
    "                        .when($\"segment1\" === lit(\"active\") && $\"amount\" < 100, \"active low value\"))\n",
    "\n",
    "segment2Level.groupBy($\"segment2\").count().show()\n",
    "segment2Level.show()"
   ]
  },
  {
   "cell_type": "code",
   "execution_count": 7,
   "metadata": {},
   "outputs": [
    {
     "name": "stdout",
     "output_type": "stream",
     "text": [
      "customer_id\n",
      "first_purchase\n",
      "recency\n",
      "frequency\n",
      "amount\n",
      "segment1\n",
      "+-----------------+-----+\n",
      "|          segment|count|\n",
      "+-----------------+-----+\n",
      "|active high value|  573|\n",
      "| active low value| 3313|\n",
      "|       active new| 1512|\n",
      "|             cold| 1903|\n",
      "|         inactive| 9158|\n",
      "|  warm high value|  119|\n",
      "|   warm low value|  901|\n",
      "|         warm new|  938|\n",
      "+-----------------+-----+\n",
      "\n",
      "+-----------+--------------+-------+---------+------------------+--------+-----------------+-----------------+\n",
      "|customer_id|first_purchase|recency|frequency|            amount|segment1|         segment2|          segment|\n",
      "+-----------+--------------+-------+---------+------------------+--------+-----------------+-----------------+\n",
      "|     131450|          2228|    205|        8|            103.75|  active|active high value|active high value|\n",
      "|     189280|          1106|      1|        3|             100.0|  active|active high value|active high value|\n",
      "|     170050|          1520|     13|        2|             100.0|  active|active high value|active high value|\n",
      "|     232050|           387|     44|        2|             250.0|  active|active high value|active high value|\n",
      "|     100580|          2739|    119|       11|104.54545454545455|  active|active high value|active high value|\n",
      "|       9630|          3801|    105|       11|116.36363636363636|  active|active high value|active high value|\n",
      "|     227630|           426|     74|        2|             100.0|  active|active high value|active high value|\n",
      "|     176240|          1280|    160|        4|             160.0|  active|active high value|active high value|\n",
      "|      18570|          3893|    342|       13|119.23076923076923|  active|active high value|active high value|\n",
      "|     141480|          2032|     69|        7|146.42857142857142|  active|active high value|active high value|\n",
      "|     132350|          2214|     71|        7|185.71428571428572|  active|active high value|active high value|\n",
      "|     175280|          1282|     71|        5|             105.0|  active|active high value|active high value|\n",
      "|     189110|          1107|    248|        3|103.33333333333333|  active|active high value|active high value|\n",
      "|     124350|          2360|    232|        6| 426.6666666666667|  active|active high value|active high value|\n",
      "|     143220|          2004|     34|        6|101.66666666666667|  active|active high value|active high value|\n",
      "|     115440|          2557|      1|        7|105.71428571428571|  active|active high value|active high value|\n",
      "|     233700|           367|      1|        2|             100.0|  active|active high value|active high value|\n",
      "|      93790|          2857|    261|       11| 560.6272727272727|  active|active high value|active high value|\n",
      "|     215510|           731|     20|        3|             500.0|  active|active high value|active high value|\n",
      "|     182630|          1163|     30|        4|             150.0|  active|active high value|active high value|\n",
      "+-----------+--------------+-------+---------+------------------+--------+-----------------+-----------------+\n",
      "only showing top 20 rows\n",
      "\n"
     ]
    },
    {
     "data": {
      "text/plain": [
       "cols = Array(customer_id, first_purchase, recency, frequency, amount, segment1)\n",
       "segmented = [customer_id: string, first_purchase: int ... 6 more fields]\n"
      ]
     },
     "metadata": {},
     "output_type": "display_data"
    },
    {
     "data": {
      "text/plain": [
       "[customer_id: string, first_purchase: int ... 6 more fields]"
      ]
     },
     "execution_count": 7,
     "metadata": {},
     "output_type": "execute_result"
    }
   ],
   "source": [
    "val cols = segment1Level.schema.fieldNames.map(col(_))\n",
    "cols.foreach(println)\n",
    "val segmented = segment1Level\n",
    "                    .join(segment2Level, segment1Level(\"customer_id\") === segment2Level(\"customer_id\"), \"inner\")\n",
    "                    .select(segment1Level(\"customer_id\"),\n",
    "                            segment1Level(\"first_purchase\"),\n",
    "                            segment1Level(\"recency\"),\n",
    "                            segment1Level(\"frequency\"),\n",
    "                            segment1Level(\"amount\"),\n",
    "                            segment1Level(\"segment1\"),\n",
    "                            segment2Level(\"segment2\"))\n",
    "                    .withColumn(\"segment\", when(segment2Level(\"segment2\").isNotNull, $\"segment2\").otherwise(segment1Level(\"segment1\")))\n",
    "                    .orderBy(\"segment\")\n",
    "\n",
    "//Cache to simplify subsequent calculations\n",
    "segmented.cache()\n",
    "\n",
    "segmented.groupBy($\"segment\").count().show()\n",
    "segmented.show()"
   ]
  },
  {
   "cell_type": "markdown",
   "metadata": {},
   "source": [
    "**NOTE: We can combine the calculation of both 1st and 2nd level segments into one code base but separating them simplifies testing and better maintenance**"
   ]
  },
  {
   "cell_type": "markdown",
   "metadata": {},
   "source": [
    "### Profile of each segment"
   ]
  },
  {
   "cell_type": "code",
   "execution_count": 8,
   "metadata": {},
   "outputs": [
    {
     "name": "stdout",
     "output_type": "stream",
     "text": [
      "+-----------------+-------+-----+------+\n",
      "|segment          |avg_r  |avg_f|avg_a |\n",
      "+-----------------+-------+-----+------+\n",
      "|active high value|88.82  |5.89 |240.05|\n",
      "|active low value |108.36 |5.94 |40.72 |\n",
      "|active new       |84.99  |1.05 |77.13 |\n",
      "|cold             |857.78 |2.3  |51.74 |\n",
      "|inactive         |2178.11|1.81 |48.11 |\n",
      "|warm high value  |455.13 |4.71 |327.41|\n",
      "|warm low value   |474.38 |4.53 |38.59 |\n",
      "|warm new         |509.3  |1.04 |66.6  |\n",
      "+-----------------+-------+-----+------+\n",
      "\n"
     ]
    },
    {
     "data": {
      "text/plain": [
       "segments = [segment: string, avg_r: double ... 2 more fields]\n"
      ]
     },
     "metadata": {},
     "output_type": "display_data"
    },
    {
     "data": {
      "text/plain": [
       "[segment: string, avg_r: double ... 2 more fields]"
      ]
     },
     "execution_count": 8,
     "metadata": {},
     "output_type": "execute_result"
    }
   ],
   "source": [
    "    val segments = segmented\n",
    "                    .groupBy($\"segment\")\n",
    "                    .agg(\n",
    "                        round(avg($\"recency\"),2).alias(\"avg_r\"),\n",
    "                        round(avg($\"frequency\"),2).alias(\"avg_f\"),\n",
    "                        round(avg($\"amount\"),2).alias(\"avg_a\"))\n",
    "                    .orderBy($\"segment\")\n",
    "    segments.show(10, truncate=false)"
   ]
  },
  {
   "cell_type": "markdown",
   "metadata": {},
   "source": [
    "## Segment a Database Retrospectively\n",
    "Taht is the segmentation of the database as if we were a **year ago**. \n",
    "\n",
    "**How did it work?**\n",
    "\n",
    "The first thing to do is to remember that we are a year ago. Meaning that whatever data we take into account, anything that has happened over the last 365 days should be discarded.\n",
    "\n",
    "We go back in time, assume the data that has been generated over the last year, for instance over the last period did not even exist. Adapt how we compute recency, frequency, monetary value and accordingly. And then we just apply everything we have applied before, same segmentation, same transformation, same analyses, and same tables.\n",
    "\n",
    "**Why do we need to segment retrospectively?**\n",
    "\n",
    "From a managerial point of view, it is also extremely useful to see not only to what extent each segment contributes to today's revenues. But also to what extent each segment today would likely contribute to tomorrow's revenues."
   ]
  },
  {
   "cell_type": "code",
   "execution_count": null,
   "metadata": {},
   "outputs": [],
   "source": []
  }
 ],
 "metadata": {
  "kernelspec": {
   "display_name": "Apache Toree - Scala",
   "language": "scala",
   "name": "apache_toree_scala"
  },
  "language_info": {
   "codemirror_mode": "text/x-scala",
   "file_extension": ".scala",
   "mimetype": "text/x-scala",
   "name": "scala",
   "pygments_lexer": "scala",
   "version": "2.11.12"
  }
 },
 "nbformat": 4,
 "nbformat_minor": 4
}
