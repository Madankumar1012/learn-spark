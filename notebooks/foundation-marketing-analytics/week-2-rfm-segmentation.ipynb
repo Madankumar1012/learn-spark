{
 "cells": [
  {
   "cell_type": "markdown",
   "metadata": {},
   "source": [
    "# RFM Segmentation\n",
    "https://clevertap.com/blog/rfm-analysis/"
   ]
  },
  {
   "cell_type": "code",
   "execution_count": 13,
   "metadata": {},
   "outputs": [
    {
     "data": {
      "text/plain": [
       "schema = StructType(StructField(customer_id,StringType,false), StructField(purchase_amount,DoubleType,false), StructField(date_of_purchase,DateType,false))\n",
       "data = [customer_id: string, purchase_amount: double ... 1 more field]\n"
      ]
     },
     "metadata": {},
     "output_type": "display_data"
    },
    {
     "data": {
      "text/plain": [
       "[customer_id: string, purchase_amount: double ... 1 more field]"
      ]
     },
     "execution_count": 13,
     "metadata": {},
     "output_type": "execute_result"
    }
   ],
   "source": [
    "import org.apache.spark.sql.types._\n",
    "\n",
    "val schema = StructType(\n",
    "                List(\n",
    "                    StructField(\"customer_id\", StringType, false),\n",
    "                    StructField(\"purchase_amount\", DoubleType, false),\n",
    "                    StructField(\"date_of_purchase\", DateType, false)\n",
    "                )\n",
    "            )\n",
    "val data = spark.read\n",
    "                .option(\"sep\", \"\\t\")\n",
    "                .option(\"mode\",\"FAILFAST\")\n",
    "                .option(\"dateFormat\",\"YYYY-MM-dd\")\n",
    "                .schema(schema)\n",
    "                .csv(\"../../data/foundation-marketing-analytics/purchases.txt\")\n",
    "                .toDF"
   ]
  },
  {
   "cell_type": "markdown",
   "metadata": {},
   "source": [
    "**Calculate RECENCY in days**\n",
    "\n",
    "Recency: How recently a customer has made a purchase"
   ]
  },
  {
   "cell_type": "code",
   "execution_count": 34,
   "metadata": {},
   "outputs": [
    {
     "name": "stdout",
     "output_type": "stream",
     "text": [
      "+-----------+---------------+----------------+----------+----------+\n",
      "|customer_id|purchase_amount|date_of_purchase|  end_date|days_since|\n",
      "+-----------+---------------+----------------+----------+----------+\n",
      "|        760|           25.0|      2009-11-06|2016-01-01|      2247|\n",
      "|        860|           50.0|      2012-09-28|2016-01-01|      1190|\n",
      "|       1200|          100.0|      2005-10-25|2016-01-01|      3720|\n",
      "|       1420|           50.0|      2009-07-09|2016-01-01|      2367|\n",
      "|       1940|           70.0|      2013-01-25|2016-01-01|      1071|\n",
      "+-----------+---------------+----------------+----------+----------+\n",
      "only showing top 5 rows\n",
      "\n"
     ]
    },
    {
     "data": {
      "text/plain": [
       "enriched1 = [customer_id: string, purchase_amount: double ... 3 more fields]\n",
       "nullCount = 0\n"
      ]
     },
     "metadata": {},
     "output_type": "display_data"
    },
    {
     "data": {
      "text/plain": [
       "lastException: Throwable = null\n"
      ]
     },
     "metadata": {},
     "output_type": "display_data"
    },
    {
     "data": {
      "text/plain": [
       "0"
      ]
     },
     "execution_count": 34,
     "metadata": {},
     "output_type": "execute_result"
    }
   ],
   "source": [
    "import org.apache.spark.sql.functions._\n",
    "\n",
    "//Why is end_date set to \"2016-01-01\"?\n",
    "\n",
    "val enriched1 = data\n",
    "                .withColumn(\"end_date\", lit(\"2016-01-01\"))\n",
    "                .withColumn(\"days_since\", datediff($\"end_date\", $\"date_of_purchase\"))\n",
    "enriched1.show(5)\n",
    "\n",
    "//Verify if any calculations have failed\n",
    "val nullCount = enriched1.filter(isnull($\"days_since\")).count()\n",
    "assert(nullCount == 0)"
   ]
  },
  {
   "cell_type": "markdown",
   "metadata": {},
   "source": [
    "**Calculate FREQUENCY and Monetary value**\n",
    "\n",
    "Frequency: How often a customer makes a purchase\n",
    "Monetary Value: How much money a customer spends on purchases"
   ]
  },
  {
   "cell_type": "code",
   "execution_count": 38,
   "metadata": {},
   "outputs": [
    {
     "name": "stdout",
     "output_type": "stream",
     "text": [
      "+-----------+-------+---------+------+\n",
      "|customer_id|recency|frequency|amount|\n",
      "+-----------+-------+---------+------+\n",
      "|         90|    758|       10| 115.8|\n",
      "|         10|   3829|        1|  30.0|\n",
      "+-----------+-------+---------+------+\n",
      "\n"
     ]
    },
    {
     "data": {
      "text/plain": [
       "enriched2 = [customer_id: string, recency: int ... 2 more fields]\n"
      ]
     },
     "metadata": {},
     "output_type": "display_data"
    },
    {
     "data": {
      "text/plain": [
       "[customer_id: string, recency: int ... 2 more fields]"
      ]
     },
     "execution_count": 38,
     "metadata": {},
     "output_type": "execute_result"
    }
   ],
   "source": [
    "val enriched2 = enriched1\n",
    "                .groupBy($\"customer_id\")\n",
    "                .agg(\n",
    "                    min($\"days_since\").alias(\"recency\"),\n",
    "                    count($\"customer_id\").alias(\"frequency\"),\n",
    "                    avg($\"purchase_amount\").alias(\"amount\"))\n",
    "enriched2.filter($\"customer_id\".isin(\"10\", \"90\")).show(5)"
   ]
  },
  {
   "cell_type": "markdown",
   "metadata": {},
   "source": [
    "**Let us do some summary/descriptive stats**"
   ]
  },
  {
   "cell_type": "code",
   "execution_count": 40,
   "metadata": {},
   "outputs": [
    {
     "name": "stdout",
     "output_type": "stream",
     "text": [
      "+-------+------------------+------------------+------------------+------------------+\n",
      "|summary|       customer_id|           recency|         frequency|            amount|\n",
      "+-------+------------------+------------------+------------------+------------------+\n",
      "|  count|             18417|             18417|             18417|             18417|\n",
      "|   mean|137573.51088668077|  1253.03789976652|2.7823749796383774|57.792985101815624|\n",
      "| stddev|  69504.5998805089|1081.4378683668397| 2.936888270392829|154.36010930845674|\n",
      "|    min|                10|                 1|                 1|               5.0|\n",
      "|    max|             99990|              4014|                45|            4500.0|\n",
      "+-------+------------------+------------------+------------------+------------------+\n",
      "\n"
     ]
    }
   ],
   "source": [
    "enriched2.describe().show()"
   ]
  },
  {
   "cell_type": "code",
   "execution_count": 44,
   "metadata": {},
   "outputs": [
    {
     "name": "stdout",
     "output_type": "stream",
     "text": [
      "+-----------+-------+---------+------------------+\n",
      "|customer_id|recency|frequency|            amount|\n",
      "+-----------+-------+---------+------------------+\n",
      "|       6240|   3005|        3| 76.66666666666667|\n",
      "|      52800|   3320|        1|              15.0|\n",
      "|     100140|     13|        4|             51.25|\n",
      "|     109180|     30|        8|             48.75|\n",
      "|     131450|    205|        8|            103.75|\n",
      "|      45300|    234|        6|29.166666666666668|\n",
      "|      69460|     15|        9| 28.88888888888889|\n",
      "|      86180|      2|        9| 21.11111111111111|\n",
      "|     161110|   1528|        1|              30.0|\n",
      "|      60070|   2074|        3|51.666666666666664|\n",
      "|      13610|   1307|        8|           3043.75|\n",
      "|     100010|    413|        7|27.857142857142858|\n",
      "|     107930|    150|        5|              79.0|\n",
      "|     132610|     30|        7|28.571428571428573|\n",
      "|     154770|    427|        1|              45.0|\n",
      "|      49290|    371|        5|              24.0|\n",
      "|     229650|    419|        1|              45.0|\n",
      "|     220290|    366|        2|              40.0|\n",
      "|     178550|      3|        8|             56.25|\n",
      "|     112480|   1890|        3|38.333333333333336|\n",
      "+-----------+-------+---------+------------------+\n",
      "only showing top 20 rows\n",
      "\n"
     ]
    }
   ],
   "source": [
    "enriched2.createOrReplaceTempView(\"customers\")\n",
    "spark.sql(\"select * from customers\").show()"
   ]
  },
  {
   "cell_type": "code",
   "execution_count": 46,
   "metadata": {},
   "outputs": [
    {
     "data": {
      "text/plain": [
       "Name: Error parsing magics!\n",
       "Message: Magic help does not exist!\n",
       "StackTrace: "
      ]
     },
     "execution_count": 46,
     "metadata": {},
     "output_type": "execute_result"
    }
   ],
   "source": [
    "%%help"
   ]
  },
  {
   "cell_type": "code",
   "execution_count": null,
   "metadata": {},
   "outputs": [],
   "source": []
  }
 ],
 "metadata": {
  "kernelspec": {
   "display_name": "Apache Toree - Scala",
   "language": "scala",
   "name": "apache_toree_scala"
  },
  "language_info": {
   "codemirror_mode": "text/x-scala",
   "file_extension": ".scala",
   "mimetype": "text/x-scala",
   "name": "scala",
   "pygments_lexer": "scala",
   "version": "2.11.12"
  }
 },
 "nbformat": 4,
 "nbformat_minor": 4
}
